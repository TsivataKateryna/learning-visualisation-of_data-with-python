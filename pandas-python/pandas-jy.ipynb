{
 "cells": [
  {
   "cell_type": "markdown",
   "id": "36abebad",
   "metadata": {},
   "source": [
    "Source: https://www.youtube.com/watch?v=2uvysYbKdjM&t=12s"
   ]
  },
  {
   "cell_type": "code",
   "execution_count": 7,
   "id": "3db9038e",
   "metadata": {},
   "outputs": [
    {
     "name": "stdout",
     "output_type": "stream",
     "text": [
      "hello world\n"
     ]
    }
   ],
   "source": [
    "print(\"hello world\")"
   ]
  },
  {
   "cell_type": "markdown",
   "id": "19a1f57b",
   "metadata": {},
   "source": [
    "DataFrames"
   ]
  },
  {
   "cell_type": "code",
   "execution_count": 10,
   "id": "2573380c",
   "metadata": {},
   "outputs": [
    {
     "name": "stdout",
     "output_type": "stream",
     "text": [
      "d:\\Новая папка\\OneDrive\\Рабочий стол\\learning-visualisation-of_data\\venv\\Lib\\site-packages\\pandas\\__init__.py\n",
      "     A   B   C\n",
      "x    1   2   3\n",
      "y    4   5   6\n",
      "z    7   8   9\n",
      "zz  10  11  12\n"
     ]
    }
   ],
   "source": [
    "import pandas as pd\n",
    "print(pd.__file__)\n",
    "df = pd.DataFrame([[1,2,3],[4,5,6],[7,8,9],[10,11,12]], columns=[\"A\", \"B\", \"C\"], index=[\"x\",\"y\",\"z\",'zz'])\n",
    "print(df)"
   ]
  },
  {
   "cell_type": "code",
   "execution_count": null,
   "id": "f97bc54d",
   "metadata": {},
   "outputs": [
    {
     "name": "stdout",
     "output_type": "stream",
     "text": [
      "5 lines par default\n",
      "5 lines par default\n"
     ]
    },
    {
     "data": {
      "text/html": [
       "<div>\n",
       "<style scoped>\n",
       "    .dataframe tbody tr th:only-of-type {\n",
       "        vertical-align: middle;\n",
       "    }\n",
       "\n",
       "    .dataframe tbody tr th {\n",
       "        vertical-align: top;\n",
       "    }\n",
       "\n",
       "    .dataframe thead th {\n",
       "        text-align: right;\n",
       "    }\n",
       "</style>\n",
       "<table border=\"1\" class=\"dataframe\">\n",
       "  <thead>\n",
       "    <tr style=\"text-align: right;\">\n",
       "      <th></th>\n",
       "      <th>A</th>\n",
       "      <th>B</th>\n",
       "      <th>C</th>\n",
       "    </tr>\n",
       "  </thead>\n",
       "  <tbody>\n",
       "    <tr>\n",
       "      <th>x</th>\n",
       "      <td>1</td>\n",
       "      <td>2</td>\n",
       "      <td>3</td>\n",
       "    </tr>\n",
       "    <tr>\n",
       "      <th>y</th>\n",
       "      <td>4</td>\n",
       "      <td>5</td>\n",
       "      <td>6</td>\n",
       "    </tr>\n",
       "    <tr>\n",
       "      <th>z</th>\n",
       "      <td>7</td>\n",
       "      <td>8</td>\n",
       "      <td>9</td>\n",
       "    </tr>\n",
       "  </tbody>\n",
       "</table>\n",
       "</div>"
      ],
      "text/plain": [
       "   A  B  C\n",
       "x  1  2  3\n",
       "y  4  5  6\n",
       "z  7  8  9"
      ]
     },
     "execution_count": 7,
     "metadata": {},
     "output_type": "execute_result"
    }
   ],
   "source": [
    "print(\"5 lines par default\")\n",
    "df.head() # 5 lines par default\n",
    "df.head(3) "
   ]
  },
  {
   "cell_type": "code",
   "execution_count": 8,
   "id": "938696d8",
   "metadata": {},
   "outputs": [
    {
     "data": {
      "text/html": [
       "<div>\n",
       "<style scoped>\n",
       "    .dataframe tbody tr th:only-of-type {\n",
       "        vertical-align: middle;\n",
       "    }\n",
       "\n",
       "    .dataframe tbody tr th {\n",
       "        vertical-align: top;\n",
       "    }\n",
       "\n",
       "    .dataframe thead th {\n",
       "        text-align: right;\n",
       "    }\n",
       "</style>\n",
       "<table border=\"1\" class=\"dataframe\">\n",
       "  <thead>\n",
       "    <tr style=\"text-align: right;\">\n",
       "      <th></th>\n",
       "      <th>A</th>\n",
       "      <th>B</th>\n",
       "      <th>C</th>\n",
       "    </tr>\n",
       "  </thead>\n",
       "  <tbody>\n",
       "    <tr>\n",
       "      <th>z</th>\n",
       "      <td>7</td>\n",
       "      <td>8</td>\n",
       "      <td>9</td>\n",
       "    </tr>\n",
       "    <tr>\n",
       "      <th>zz</th>\n",
       "      <td>10</td>\n",
       "      <td>11</td>\n",
       "      <td>12</td>\n",
       "    </tr>\n",
       "  </tbody>\n",
       "</table>\n",
       "</div>"
      ],
      "text/plain": [
       "     A   B   C\n",
       "z    7   8   9\n",
       "zz  10  11  12"
      ]
     },
     "execution_count": 8,
     "metadata": {},
     "output_type": "execute_result"
    }
   ],
   "source": [
    "df.tail(2) "
   ]
  },
  {
   "cell_type": "code",
   "execution_count": 11,
   "id": "ee64249d",
   "metadata": {},
   "outputs": [
    {
     "name": "stdout",
     "output_type": "stream",
     "text": [
      "df.index.tolist():\n",
      "['x', 'y', 'z', 'zz']\n",
      "\n",
      "df.columns:\n",
      "Index(['A', 'B', 'C'], dtype='object')\n",
      "\n",
      "df.info():\n",
      "<class 'pandas.core.frame.DataFrame'>\n",
      "Index: 4 entries, x to zz\n",
      "Data columns (total 3 columns):\n",
      " #   Column  Non-Null Count  Dtype\n",
      "---  ------  --------------  -----\n",
      " 0   A       4 non-null      int64\n",
      " 1   B       4 non-null      int64\n",
      " 2   C       4 non-null      int64\n",
      "dtypes: int64(3)\n",
      "memory usage: 300.0+ bytes\n"
     ]
    }
   ],
   "source": [
    "print(\"df.index.tolist():\")\n",
    "print(df.index.tolist())\n",
    "\n",
    "print(\"\\ndf.columns:\")\n",
    "print(df.columns)\n",
    "\n",
    "print(\"\\ndf.info():\")\n",
    "df.info()\n"
   ]
  },
  {
   "cell_type": "markdown",
   "id": "b5cafd0a",
   "metadata": {},
   "source": [
    "Python Pandas"
   ]
  },
  {
   "cell_type": "code",
   "execution_count": null,
   "id": "01dd3480",
   "metadata": {},
   "outputs": [
    {
     "data": {
      "text/html": [
       "<div>\n",
       "<style scoped>\n",
       "    .dataframe tbody tr th:only-of-type {\n",
       "        vertical-align: middle;\n",
       "    }\n",
       "\n",
       "    .dataframe tbody tr th {\n",
       "        vertical-align: top;\n",
       "    }\n",
       "\n",
       "    .dataframe thead th {\n",
       "        text-align: right;\n",
       "    }\n",
       "</style>\n",
       "<table border=\"1\" class=\"dataframe\">\n",
       "  <thead>\n",
       "    <tr style=\"text-align: right;\">\n",
       "      <th></th>\n",
       "      <th>A</th>\n",
       "      <th>B</th>\n",
       "      <th>C</th>\n",
       "    </tr>\n",
       "  </thead>\n",
       "  <tbody>\n",
       "    <tr>\n",
       "      <th>count</th>\n",
       "      <td>4.000000</td>\n",
       "      <td>4.000000</td>\n",
       "      <td>4.000000</td>\n",
       "    </tr>\n",
       "    <tr>\n",
       "      <th>mean</th>\n",
       "      <td>5.500000</td>\n",
       "      <td>6.500000</td>\n",
       "      <td>7.500000</td>\n",
       "    </tr>\n",
       "    <tr>\n",
       "      <th>std</th>\n",
       "      <td>3.872983</td>\n",
       "      <td>3.872983</td>\n",
       "      <td>3.872983</td>\n",
       "    </tr>\n",
       "    <tr>\n",
       "      <th>min</th>\n",
       "      <td>1.000000</td>\n",
       "      <td>2.000000</td>\n",
       "      <td>3.000000</td>\n",
       "    </tr>\n",
       "    <tr>\n",
       "      <th>25%</th>\n",
       "      <td>3.250000</td>\n",
       "      <td>4.250000</td>\n",
       "      <td>5.250000</td>\n",
       "    </tr>\n",
       "    <tr>\n",
       "      <th>50%</th>\n",
       "      <td>5.500000</td>\n",
       "      <td>6.500000</td>\n",
       "      <td>7.500000</td>\n",
       "    </tr>\n",
       "    <tr>\n",
       "      <th>75%</th>\n",
       "      <td>7.750000</td>\n",
       "      <td>8.750000</td>\n",
       "      <td>9.750000</td>\n",
       "    </tr>\n",
       "    <tr>\n",
       "      <th>max</th>\n",
       "      <td>10.000000</td>\n",
       "      <td>11.000000</td>\n",
       "      <td>12.000000</td>\n",
       "    </tr>\n",
       "  </tbody>\n",
       "</table>\n",
       "</div>"
      ],
      "text/plain": [
       "               A          B          C\n",
       "count   4.000000   4.000000   4.000000\n",
       "mean    5.500000   6.500000   7.500000\n",
       "std     3.872983   3.872983   3.872983\n",
       "min     1.000000   2.000000   3.000000\n",
       "25%     3.250000   4.250000   5.250000\n",
       "50%     5.500000   6.500000   7.500000\n",
       "75%     7.750000   8.750000   9.750000\n",
       "max    10.000000  11.000000  12.000000"
      ]
     },
     "execution_count": 12,
     "metadata": {},
     "output_type": "execute_result"
    }
   ],
   "source": [
    "df.describe()\n",
    "#std - standard deviation"
   ]
  },
  {
   "cell_type": "code",
   "execution_count": 13,
   "id": "1ba31a84",
   "metadata": {},
   "outputs": [
    {
     "data": {
      "text/plain": [
       "array([ 1,  4,  7, 10])"
      ]
     },
     "execution_count": 13,
     "metadata": {},
     "output_type": "execute_result"
    }
   ],
   "source": [
    "df.nunique()\n",
    "df['A'].unique()"
   ]
  },
  {
   "cell_type": "code",
   "execution_count": 14,
   "id": "17217a1e",
   "metadata": {},
   "outputs": [
    {
     "data": {
      "text/plain": [
       "12"
      ]
     },
     "execution_count": 14,
     "metadata": {},
     "output_type": "execute_result"
    }
   ],
   "source": [
    "df.size # n * m"
   ]
  },
  {
   "cell_type": "code",
   "execution_count": 15,
   "id": "2ea512e3",
   "metadata": {},
   "outputs": [
    {
     "data": {
      "text/plain": [
       "(4, 3)"
      ]
     },
     "execution_count": 15,
     "metadata": {},
     "output_type": "execute_result"
    }
   ],
   "source": [
    "df.shape"
   ]
  },
  {
   "cell_type": "markdown",
   "id": "4fcca531",
   "metadata": {},
   "source": [
    "Loading in Dataframes from Files"
   ]
  },
  {
   "cell_type": "code",
   "execution_count": 15,
   "id": "65f4807f",
   "metadata": {},
   "outputs": [
    {
     "data": {
      "text/html": [
       "<div>\n",
       "<style scoped>\n",
       "    .dataframe tbody tr th:only-of-type {\n",
       "        vertical-align: middle;\n",
       "    }\n",
       "\n",
       "    .dataframe tbody tr th {\n",
       "        vertical-align: top;\n",
       "    }\n",
       "\n",
       "    .dataframe thead th {\n",
       "        text-align: right;\n",
       "    }\n",
       "</style>\n",
       "<table border=\"1\" class=\"dataframe\">\n",
       "  <thead>\n",
       "    <tr style=\"text-align: right;\">\n",
       "      <th></th>\n",
       "      <th>Day</th>\n",
       "      <th>Coffee Type</th>\n",
       "      <th>Units Sold</th>\n",
       "    </tr>\n",
       "  </thead>\n",
       "  <tbody>\n",
       "    <tr>\n",
       "      <th>3</th>\n",
       "      <td>Tuesday</td>\n",
       "      <td>Latte</td>\n",
       "      <td>20</td>\n",
       "    </tr>\n",
       "    <tr>\n",
       "      <th>7</th>\n",
       "      <td>Thursday</td>\n",
       "      <td>Latte</td>\n",
       "      <td>30</td>\n",
       "    </tr>\n",
       "    <tr>\n",
       "      <th>6</th>\n",
       "      <td>Thursday</td>\n",
       "      <td>Espresso</td>\n",
       "      <td>40</td>\n",
       "    </tr>\n",
       "    <tr>\n",
       "      <th>2</th>\n",
       "      <td>Tuesday</td>\n",
       "      <td>Espresso</td>\n",
       "      <td>30</td>\n",
       "    </tr>\n",
       "    <tr>\n",
       "      <th>10</th>\n",
       "      <td>Saturday</td>\n",
       "      <td>Espresso</td>\n",
       "      <td>45</td>\n",
       "    </tr>\n",
       "    <tr>\n",
       "      <th>4</th>\n",
       "      <td>Wednesday</td>\n",
       "      <td>Espresso</td>\n",
       "      <td>35</td>\n",
       "    </tr>\n",
       "    <tr>\n",
       "      <th>1</th>\n",
       "      <td>Monday</td>\n",
       "      <td>Latte</td>\n",
       "      <td>15</td>\n",
       "    </tr>\n",
       "    <tr>\n",
       "      <th>12</th>\n",
       "      <td>Sunday</td>\n",
       "      <td>Espresso</td>\n",
       "      <td>45</td>\n",
       "    </tr>\n",
       "    <tr>\n",
       "      <th>0</th>\n",
       "      <td>Monday</td>\n",
       "      <td>Espresso</td>\n",
       "      <td>25</td>\n",
       "    </tr>\n",
       "    <tr>\n",
       "      <th>13</th>\n",
       "      <td>Sunday</td>\n",
       "      <td>Latte</td>\n",
       "      <td>35</td>\n",
       "    </tr>\n",
       "  </tbody>\n",
       "</table>\n",
       "</div>"
      ],
      "text/plain": [
       "          Day Coffee Type  Units Sold\n",
       "3     Tuesday       Latte          20\n",
       "7    Thursday       Latte          30\n",
       "6    Thursday    Espresso          40\n",
       "2     Tuesday    Espresso          30\n",
       "10   Saturday    Espresso          45\n",
       "4   Wednesday    Espresso          35\n",
       "1      Monday       Latte          15\n",
       "12     Sunday    Espresso          45\n",
       "0      Monday    Espresso          25\n",
       "13     Sunday       Latte          35"
      ]
     },
     "execution_count": 15,
     "metadata": {},
     "output_type": "execute_result"
    }
   ],
   "source": [
    "#results = pd.read_csv('./data/result.csv')\n",
    "coffee = pd.read_csv('./data/coffee.csv')\n",
    "bios = pd.read_csv('https://raw.githubusercontent.com/KeithGalli/complete-pandas-tutorial/refs/heads/master/data/bios.csv')\n",
    "results_parquet = pd.read_parquet('./data/results.parquet') # need to be installed pip install pyarrow\n",
    "regions = pd.read_csv(\"https://raw.githubusercontent.com/KeithGalli/complete-pandas-tutorial/refs/heads/master/data/noc_regions.csv\")\n",
    "coffee\n",
    "coffee.sample(10, random_state=1)"
   ]
  },
  {
   "cell_type": "code",
   "execution_count": 11,
   "id": "3a120df4",
   "metadata": {},
   "outputs": [
    {
     "data": {
      "text/html": [
       "<div>\n",
       "<style scoped>\n",
       "    .dataframe tbody tr th:only-of-type {\n",
       "        vertical-align: middle;\n",
       "    }\n",
       "\n",
       "    .dataframe tbody tr th {\n",
       "        vertical-align: top;\n",
       "    }\n",
       "\n",
       "    .dataframe thead th {\n",
       "        text-align: right;\n",
       "    }\n",
       "</style>\n",
       "<table border=\"1\" class=\"dataframe\">\n",
       "  <thead>\n",
       "    <tr style=\"text-align: right;\">\n",
       "      <th></th>\n",
       "      <th>year</th>\n",
       "      <th>type</th>\n",
       "      <th>discipline</th>\n",
       "      <th>event</th>\n",
       "      <th>as</th>\n",
       "      <th>athlete_id</th>\n",
       "      <th>noc</th>\n",
       "      <th>team</th>\n",
       "      <th>place</th>\n",
       "      <th>tied</th>\n",
       "      <th>medal</th>\n",
       "    </tr>\n",
       "  </thead>\n",
       "  <tbody>\n",
       "    <tr>\n",
       "      <th>0</th>\n",
       "      <td>1912.0</td>\n",
       "      <td>Summer</td>\n",
       "      <td>Tennis</td>\n",
       "      <td>Singles, Men (Olympic)</td>\n",
       "      <td>Jean-François Blanchy</td>\n",
       "      <td>1</td>\n",
       "      <td>FRA</td>\n",
       "      <td>NaN</td>\n",
       "      <td>17.0</td>\n",
       "      <td>True</td>\n",
       "      <td>NaN</td>\n",
       "    </tr>\n",
       "    <tr>\n",
       "      <th>1</th>\n",
       "      <td>1912.0</td>\n",
       "      <td>Summer</td>\n",
       "      <td>Tennis</td>\n",
       "      <td>Doubles, Men (Olympic)</td>\n",
       "      <td>Jean-François Blanchy</td>\n",
       "      <td>1</td>\n",
       "      <td>FRA</td>\n",
       "      <td>Jean Montariol</td>\n",
       "      <td>NaN</td>\n",
       "      <td>False</td>\n",
       "      <td>NaN</td>\n",
       "    </tr>\n",
       "    <tr>\n",
       "      <th>2</th>\n",
       "      <td>1920.0</td>\n",
       "      <td>Summer</td>\n",
       "      <td>Tennis</td>\n",
       "      <td>Singles, Men (Olympic)</td>\n",
       "      <td>Jean-François Blanchy</td>\n",
       "      <td>1</td>\n",
       "      <td>FRA</td>\n",
       "      <td>NaN</td>\n",
       "      <td>32.0</td>\n",
       "      <td>True</td>\n",
       "      <td>NaN</td>\n",
       "    </tr>\n",
       "    <tr>\n",
       "      <th>3</th>\n",
       "      <td>1920.0</td>\n",
       "      <td>Summer</td>\n",
       "      <td>Tennis</td>\n",
       "      <td>Doubles, Mixed (Olympic)</td>\n",
       "      <td>Jean-François Blanchy</td>\n",
       "      <td>1</td>\n",
       "      <td>FRA</td>\n",
       "      <td>Jeanne Vaussard</td>\n",
       "      <td>8.0</td>\n",
       "      <td>True</td>\n",
       "      <td>NaN</td>\n",
       "    </tr>\n",
       "    <tr>\n",
       "      <th>4</th>\n",
       "      <td>1920.0</td>\n",
       "      <td>Summer</td>\n",
       "      <td>Tennis</td>\n",
       "      <td>Doubles, Men (Olympic)</td>\n",
       "      <td>Jean-François Blanchy</td>\n",
       "      <td>1</td>\n",
       "      <td>FRA</td>\n",
       "      <td>Jacques Brugnon</td>\n",
       "      <td>4.0</td>\n",
       "      <td>False</td>\n",
       "      <td>NaN</td>\n",
       "    </tr>\n",
       "  </tbody>\n",
       "</table>\n",
       "</div>"
      ],
      "text/plain": [
       "     year    type discipline                     event                     as  \\\n",
       "0  1912.0  Summer     Tennis    Singles, Men (Olympic)  Jean-François Blanchy   \n",
       "1  1912.0  Summer     Tennis    Doubles, Men (Olympic)  Jean-François Blanchy   \n",
       "2  1920.0  Summer     Tennis    Singles, Men (Olympic)  Jean-François Blanchy   \n",
       "3  1920.0  Summer     Tennis  Doubles, Mixed (Olympic)  Jean-François Blanchy   \n",
       "4  1920.0  Summer     Tennis    Doubles, Men (Olympic)  Jean-François Blanchy   \n",
       "\n",
       "   athlete_id  noc             team  place   tied medal  \n",
       "0           1  FRA              NaN   17.0   True   NaN  \n",
       "1           1  FRA   Jean Montariol    NaN  False   NaN  \n",
       "2           1  FRA              NaN   32.0   True   NaN  \n",
       "3           1  FRA  Jeanne Vaussard    8.0   True   NaN  \n",
       "4           1  FRA  Jacques Brugnon    4.0  False   NaN  "
      ]
     },
     "execution_count": 11,
     "metadata": {},
     "output_type": "execute_result"
    }
   ],
   "source": [
    "olympics_data = pd.read_excel('./data/olympics-data.xlsx', sheet_name=\"results\")\n",
    "#need to install 'pip install openpyxl'\n",
    "olympics_data.head()"
   ]
  },
  {
   "cell_type": "code",
   "execution_count": null,
   "id": "fdaaade0",
   "metadata": {},
   "outputs": [],
   "source": [
    "import os\n",
    "print(os.getcwd())       \n",
    "print(os.listdir('./'))   \n",
    "print(os.listdir('./data'))  "
   ]
  },
  {
   "cell_type": "markdown",
   "id": "4e78d721",
   "metadata": {},
   "source": [
    "Accessing Data with Pandas"
   ]
  },
  {
   "cell_type": "code",
   "execution_count": 16,
   "id": "2c694a36",
   "metadata": {},
   "outputs": [
    {
     "name": "stdout",
     "output_type": "stream",
     "text": [
      "\n",
      "Day              Monday\n",
      "Coffee Type    Espresso\n",
      "Units Sold           25\n",
      "Name: 0, dtype: object\n",
      "\n",
      "         Day Coffee Type  Units Sold\n",
      "0     Monday    Espresso          25\n",
      "1     Monday       Latte          15\n",
      "5  Wednesday       Latte          25\n",
      "\n",
      "         Day  Units Sold\n",
      "5  Wednesday          25\n",
      "6   Thursday          40\n",
      "7   Thursday          30\n",
      "8     Friday          45\n",
      "9     Friday          35\n",
      "\n",
      "          Day  Units Sold\n",
      "0      Monday          25\n",
      "1      Monday          15\n",
      "2     Tuesday          30\n",
      "3     Tuesday          20\n",
      "4   Wednesday          35\n",
      "5   Wednesday          25\n",
      "6    Thursday          40\n",
      "7    Thursday          30\n",
      "8      Friday          45\n",
      "9      Friday          35\n",
      "10   Saturday          45\n",
      "11   Saturday          35\n",
      "12     Sunday          45\n",
      "13     Sunday          35\n"
     ]
    }
   ],
   "source": [
    "# loc\n",
    "# coffee.loc[Rows, Columns]\n",
    "\n",
    "print()\n",
    "print(coffee.loc[0])\n",
    "print()\n",
    "print(coffee.loc[[0,1,5]])\n",
    "print()\n",
    "print(coffee.loc[5:9, [\"Day\", \"Units Sold\"]])\n",
    "print()\n",
    "print(coffee.iloc[:, [0,2]])"
   ]
  },
  {
   "cell_type": "markdown",
   "id": "204ecab1",
   "metadata": {},
   "source": [
    "loc - the name of a row or column, but not the position\n",
    "https://pandas.pydata.org/docs/reference/api/pandas.DataFrame.loc.html#pandas.DataFrame.loc\n",
    "\n",
    "iloc - by row or column number (as in Python lists)\n",
    "https://pandas.pydata.org/docs/reference/api/pandas.DataFrame.iloc.html#pandas.DataFrame.iloc"
   ]
  },
  {
   "cell_type": "markdown",
   "id": "1f5cd968",
   "metadata": {},
   "source": [
    "Other Stuff"
   ]
  },
  {
   "cell_type": "code",
   "execution_count": null,
   "id": "0dfd75b4",
   "metadata": {},
   "outputs": [],
   "source": [
    "print()\n",
    "coffee.index = coffee[\"Day\"] #to change index\n",
    "print() \n",
    "coffee = pd.read_csv('./warmup-data/coffee.csv')"
   ]
  },
  {
   "cell_type": "code",
   "execution_count": null,
   "id": "27a17d2a",
   "metadata": {},
   "outputs": [],
   "source": [
    "coffee.loc[1:3, \"Units Sold\"] = 10 # to set value\n",
    "\n",
    "# to access only one element\n",
    "coffee.at[0,\"Units Sold\"] \n",
    "coffee.iat[3,1]"
   ]
  },
  {
   "cell_type": "code",
   "execution_count": 18,
   "id": "79ef0179",
   "metadata": {},
   "outputs": [
    {
     "data": {
      "text/plain": [
       "0        Monday\n",
       "1        Monday\n",
       "2       Tuesday\n",
       "3       Tuesday\n",
       "4     Wednesday\n",
       "5     Wednesday\n",
       "6      Thursday\n",
       "7      Thursday\n",
       "8        Friday\n",
       "9        Friday\n",
       "10     Saturday\n",
       "11     Saturday\n",
       "12       Sunday\n",
       "13       Sunday\n",
       "Name: Day, dtype: object"
      ]
     },
     "execution_count": 18,
     "metadata": {},
     "output_type": "execute_result"
    }
   ],
   "source": [
    "# to access collums\n",
    "coffee.Day #if its a single word\n",
    "coffee[\"Day\"]"
   ]
  },
  {
   "cell_type": "code",
   "execution_count": null,
   "id": "d38a8df6",
   "metadata": {},
   "outputs": [
    {
     "name": "stdout",
     "output_type": "stream",
     "text": [
      "\n",
      "\n",
      "\n"
     ]
    },
    {
     "data": {
      "text/html": [
       "<div>\n",
       "<style scoped>\n",
       "    .dataframe tbody tr th:only-of-type {\n",
       "        vertical-align: middle;\n",
       "    }\n",
       "\n",
       "    .dataframe tbody tr th {\n",
       "        vertical-align: top;\n",
       "    }\n",
       "\n",
       "    .dataframe thead th {\n",
       "        text-align: right;\n",
       "    }\n",
       "</style>\n",
       "<table border=\"1\" class=\"dataframe\">\n",
       "  <thead>\n",
       "    <tr style=\"text-align: right;\">\n",
       "      <th></th>\n",
       "      <th>Day</th>\n",
       "      <th>Coffee Type</th>\n",
       "      <th>Units Sold</th>\n",
       "    </tr>\n",
       "  </thead>\n",
       "  <tbody>\n",
       "    <tr>\n",
       "      <th>8</th>\n",
       "      <td>Friday</td>\n",
       "      <td>Espresso</td>\n",
       "      <td>45</td>\n",
       "    </tr>\n",
       "    <tr>\n",
       "      <th>10</th>\n",
       "      <td>Saturday</td>\n",
       "      <td>Espresso</td>\n",
       "      <td>45</td>\n",
       "    </tr>\n",
       "    <tr>\n",
       "      <th>12</th>\n",
       "      <td>Sunday</td>\n",
       "      <td>Espresso</td>\n",
       "      <td>45</td>\n",
       "    </tr>\n",
       "    <tr>\n",
       "      <th>6</th>\n",
       "      <td>Thursday</td>\n",
       "      <td>Espresso</td>\n",
       "      <td>40</td>\n",
       "    </tr>\n",
       "    <tr>\n",
       "      <th>4</th>\n",
       "      <td>Wednesday</td>\n",
       "      <td>Espresso</td>\n",
       "      <td>35</td>\n",
       "    </tr>\n",
       "    <tr>\n",
       "      <th>9</th>\n",
       "      <td>Friday</td>\n",
       "      <td>Latte</td>\n",
       "      <td>35</td>\n",
       "    </tr>\n",
       "    <tr>\n",
       "      <th>11</th>\n",
       "      <td>Saturday</td>\n",
       "      <td>Latte</td>\n",
       "      <td>35</td>\n",
       "    </tr>\n",
       "    <tr>\n",
       "      <th>13</th>\n",
       "      <td>Sunday</td>\n",
       "      <td>Latte</td>\n",
       "      <td>35</td>\n",
       "    </tr>\n",
       "    <tr>\n",
       "      <th>2</th>\n",
       "      <td>Tuesday</td>\n",
       "      <td>Espresso</td>\n",
       "      <td>30</td>\n",
       "    </tr>\n",
       "    <tr>\n",
       "      <th>7</th>\n",
       "      <td>Thursday</td>\n",
       "      <td>Latte</td>\n",
       "      <td>30</td>\n",
       "    </tr>\n",
       "    <tr>\n",
       "      <th>0</th>\n",
       "      <td>Monday</td>\n",
       "      <td>Espresso</td>\n",
       "      <td>25</td>\n",
       "    </tr>\n",
       "    <tr>\n",
       "      <th>5</th>\n",
       "      <td>Wednesday</td>\n",
       "      <td>Latte</td>\n",
       "      <td>25</td>\n",
       "    </tr>\n",
       "    <tr>\n",
       "      <th>3</th>\n",
       "      <td>Tuesday</td>\n",
       "      <td>Latte</td>\n",
       "      <td>20</td>\n",
       "    </tr>\n",
       "    <tr>\n",
       "      <th>1</th>\n",
       "      <td>Monday</td>\n",
       "      <td>Latte</td>\n",
       "      <td>15</td>\n",
       "    </tr>\n",
       "  </tbody>\n",
       "</table>\n",
       "</div>"
      ],
      "text/plain": [
       "          Day Coffee Type  Units Sold\n",
       "8      Friday    Espresso          45\n",
       "10   Saturday    Espresso          45\n",
       "12     Sunday    Espresso          45\n",
       "6    Thursday    Espresso          40\n",
       "4   Wednesday    Espresso          35\n",
       "9      Friday       Latte          35\n",
       "11   Saturday       Latte          35\n",
       "13     Sunday       Latte          35\n",
       "2     Tuesday    Espresso          30\n",
       "7    Thursday       Latte          30\n",
       "0      Monday    Espresso          25\n",
       "5   Wednesday       Latte          25\n",
       "3     Tuesday       Latte          20\n",
       "1      Monday       Latte          15"
      ]
     },
     "execution_count": 20,
     "metadata": {},
     "output_type": "execute_result"
    }
   ],
   "source": [
    "#Sort Values\n",
    "\n",
    "print()\n",
    "coffee.sort_values([\"Units Sold\"])\n",
    "print()\n",
    "coffee.sort_values([\"Units Sold\"], ascending=False)\n",
    "print()\n",
    "coffee.sort_values([\"Units Sold\", \"Coffee Type\"], ascending=[0,1])\n",
    "# 0 → descending\n",
    "# 1 → ascending"
   ]
  },
  {
   "cell_type": "markdown",
   "id": "04372d8c",
   "metadata": {},
   "source": [
    "##### Iterate over dataframe with for loop"
   ]
  },
  {
   "cell_type": "code",
   "execution_count": null,
   "id": "91869224",
   "metadata": {},
   "outputs": [],
   "source": [
    "for index, row in coffee.iterrows():\n",
    "    print(index)\n",
    "    print(row)\n",
    "    print(\"Coffee Type of Row:\", row[\"Coffee Type\"])"
   ]
  },
  {
   "cell_type": "markdown",
   "id": "59cec4ee",
   "metadata": {},
   "source": [
    "#### Filtering Data"
   ]
  }
 ],
 "metadata": {
  "kernelspec": {
   "display_name": "venv (3.12.6)",
   "language": "python",
   "name": "python3"
  },
  "language_info": {
   "codemirror_mode": {
    "name": "ipython",
    "version": 3
   },
   "file_extension": ".py",
   "mimetype": "text/x-python",
   "name": "python",
   "nbconvert_exporter": "python",
   "pygments_lexer": "ipython3",
   "version": "3.12.6"
  }
 },
 "nbformat": 4,
 "nbformat_minor": 5
}
