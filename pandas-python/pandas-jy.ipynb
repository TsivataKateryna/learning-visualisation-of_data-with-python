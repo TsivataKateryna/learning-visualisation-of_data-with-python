{
 "cells": [
  {
   "cell_type": "markdown",
   "id": "36abebad",
   "metadata": {},
   "source": [
    "my notes from [Pandas Tutorial](https://www.youtube.com/watch?v=2uvysYbKdjM&t=12s)"
   ]
  },
  {
   "cell_type": "markdown",
   "id": "05b4308c",
   "metadata": {},
   "source": [
    "## Libraries"
   ]
  },
  {
   "cell_type": "code",
   "execution_count": 2,
   "id": "9b91b738",
   "metadata": {},
   "outputs": [],
   "source": [
    "import pandas as pd\n",
    "import numpy as np"
   ]
  },
  {
   "cell_type": "markdown",
   "id": "19a1f57b",
   "metadata": {},
   "source": [
    "## DataFrames"
   ]
  },
  {
   "cell_type": "code",
   "execution_count": 42,
   "id": "2573380c",
   "metadata": {},
   "outputs": [
    {
     "name": "stdout",
     "output_type": "stream",
     "text": [
      "d:\\Новая папка\\OneDrive\\Рабочий стол\\learning-visualisation-of_data\\venv\\Lib\\site-packages\\pandas\\__init__.py\n",
      "     A   B   C\n",
      "x    1   2   3\n",
      "y    4   5   6\n",
      "z    7   8   9\n",
      "zz  10  11  12\n"
     ]
    }
   ],
   "source": [
    "print(pd.__file__) # path where the pandas library is installed\n",
    "df = pd.DataFrame([[1,2,3],[4,5,6],[7,8,9],[10,11,12]], columns=[\"A\", \"B\", \"C\"], index=[\"x\",\"y\",\"z\",'zz'])\n",
    "print(df)"
   ]
  },
  {
   "cell_type": "markdown",
   "id": "b0446bfc",
   "metadata": {},
   "source": [
    "**info()** -> https://pandas.pydata.org/docs/reference/api/pandas.DataFrame.info.html#pandas.DataFrame.info\n",
    "This method prints information about a DataFrame including the index dtype and columns, non-null values and memory usage."
   ]
  },
  {
   "cell_type": "code",
   "execution_count": 44,
   "id": "f97bc54d",
   "metadata": {},
   "outputs": [
    {
     "data": {
      "text/html": [
       "<div>\n",
       "<style scoped>\n",
       "    .dataframe tbody tr th:only-of-type {\n",
       "        vertical-align: middle;\n",
       "    }\n",
       "\n",
       "    .dataframe tbody tr th {\n",
       "        vertical-align: top;\n",
       "    }\n",
       "\n",
       "    .dataframe thead th {\n",
       "        text-align: right;\n",
       "    }\n",
       "</style>\n",
       "<table border=\"1\" class=\"dataframe\">\n",
       "  <thead>\n",
       "    <tr style=\"text-align: right;\">\n",
       "      <th></th>\n",
       "      <th>A</th>\n",
       "      <th>B</th>\n",
       "      <th>C</th>\n",
       "    </tr>\n",
       "  </thead>\n",
       "  <tbody>\n",
       "    <tr>\n",
       "      <th>z</th>\n",
       "      <td>7</td>\n",
       "      <td>8</td>\n",
       "      <td>9</td>\n",
       "    </tr>\n",
       "    <tr>\n",
       "      <th>zz</th>\n",
       "      <td>10</td>\n",
       "      <td>11</td>\n",
       "      <td>12</td>\n",
       "    </tr>\n",
       "  </tbody>\n",
       "</table>\n",
       "</div>"
      ],
      "text/plain": [
       "     A   B   C\n",
       "z    7   8   9\n",
       "zz  10  11  12"
      ]
     },
     "execution_count": 44,
     "metadata": {},
     "output_type": "execute_result"
    }
   ],
   "source": [
    "df.head() # 5 lines par default\n",
    "df.head(3) \n",
    "df.tail(2) "
   ]
  },
  {
   "cell_type": "code",
   "execution_count": null,
   "id": "ee64249d",
   "metadata": {},
   "outputs": [
    {
     "name": "stdout",
     "output_type": "stream",
     "text": [
      "df.index.tolist():\n",
      "['x', 'y', 'z', 'zz']\n",
      "\n",
      "df.columns:\n",
      "Index(['A', 'B', 'C'], dtype='object')\n",
      "\n",
      "df.info():\n",
      "<class 'pandas.core.frame.DataFrame'>\n",
      "Index: 4 entries, x to zz\n",
      "Data columns (total 3 columns):\n",
      " #   Column  Non-Null Count  Dtype\n",
      "---  ------  --------------  -----\n",
      " 0   A       4 non-null      int64\n",
      " 1   B       4 non-null      int64\n",
      " 2   C       4 non-null      int64\n",
      "dtypes: int64(3)\n",
      "memory usage: 128.0+ bytes\n"
     ]
    }
   ],
   "source": [
    "print(\"df.index.tolist():\")\n",
    "print(df.index.tolist())\n",
    "\n",
    "print(\"\\ndf.columns:\")\n",
    "print(df.columns)\n",
    "\n",
    "print(\"\\ndf.info():\")\n",
    "df.info()"
   ]
  },
  {
   "cell_type": "code",
   "execution_count": 46,
   "id": "01dd3480",
   "metadata": {},
   "outputs": [
    {
     "data": {
      "text/html": [
       "<div>\n",
       "<style scoped>\n",
       "    .dataframe tbody tr th:only-of-type {\n",
       "        vertical-align: middle;\n",
       "    }\n",
       "\n",
       "    .dataframe tbody tr th {\n",
       "        vertical-align: top;\n",
       "    }\n",
       "\n",
       "    .dataframe thead th {\n",
       "        text-align: right;\n",
       "    }\n",
       "</style>\n",
       "<table border=\"1\" class=\"dataframe\">\n",
       "  <thead>\n",
       "    <tr style=\"text-align: right;\">\n",
       "      <th></th>\n",
       "      <th>A</th>\n",
       "      <th>B</th>\n",
       "      <th>C</th>\n",
       "    </tr>\n",
       "  </thead>\n",
       "  <tbody>\n",
       "    <tr>\n",
       "      <th>count</th>\n",
       "      <td>4.000000</td>\n",
       "      <td>4.000000</td>\n",
       "      <td>4.000000</td>\n",
       "    </tr>\n",
       "    <tr>\n",
       "      <th>mean</th>\n",
       "      <td>5.500000</td>\n",
       "      <td>6.500000</td>\n",
       "      <td>7.500000</td>\n",
       "    </tr>\n",
       "    <tr>\n",
       "      <th>std</th>\n",
       "      <td>3.872983</td>\n",
       "      <td>3.872983</td>\n",
       "      <td>3.872983</td>\n",
       "    </tr>\n",
       "    <tr>\n",
       "      <th>min</th>\n",
       "      <td>1.000000</td>\n",
       "      <td>2.000000</td>\n",
       "      <td>3.000000</td>\n",
       "    </tr>\n",
       "    <tr>\n",
       "      <th>25%</th>\n",
       "      <td>3.250000</td>\n",
       "      <td>4.250000</td>\n",
       "      <td>5.250000</td>\n",
       "    </tr>\n",
       "    <tr>\n",
       "      <th>50%</th>\n",
       "      <td>5.500000</td>\n",
       "      <td>6.500000</td>\n",
       "      <td>7.500000</td>\n",
       "    </tr>\n",
       "    <tr>\n",
       "      <th>75%</th>\n",
       "      <td>7.750000</td>\n",
       "      <td>8.750000</td>\n",
       "      <td>9.750000</td>\n",
       "    </tr>\n",
       "    <tr>\n",
       "      <th>max</th>\n",
       "      <td>10.000000</td>\n",
       "      <td>11.000000</td>\n",
       "      <td>12.000000</td>\n",
       "    </tr>\n",
       "  </tbody>\n",
       "</table>\n",
       "</div>"
      ],
      "text/plain": [
       "               A          B          C\n",
       "count   4.000000   4.000000   4.000000\n",
       "mean    5.500000   6.500000   7.500000\n",
       "std     3.872983   3.872983   3.872983\n",
       "min     1.000000   2.000000   3.000000\n",
       "25%     3.250000   4.250000   5.250000\n",
       "50%     5.500000   6.500000   7.500000\n",
       "75%     7.750000   8.750000   9.750000\n",
       "max    10.000000  11.000000  12.000000"
      ]
     },
     "execution_count": 46,
     "metadata": {},
     "output_type": "execute_result"
    }
   ],
   "source": [
    "df.describe()\n",
    "#std - standard deviation"
   ]
  },
  {
   "cell_type": "code",
   "execution_count": 47,
   "id": "1ba31a84",
   "metadata": {},
   "outputs": [
    {
     "data": {
      "text/plain": [
       "array([ 1,  4,  7, 10])"
      ]
     },
     "execution_count": 47,
     "metadata": {},
     "output_type": "execute_result"
    }
   ],
   "source": [
    "df.nunique()\n",
    "df['A'].unique()"
   ]
  },
  {
   "cell_type": "code",
   "execution_count": 48,
   "id": "17217a1e",
   "metadata": {},
   "outputs": [
    {
     "data": {
      "text/plain": [
       "12"
      ]
     },
     "execution_count": 48,
     "metadata": {},
     "output_type": "execute_result"
    }
   ],
   "source": [
    "df.size # n * m"
   ]
  },
  {
   "cell_type": "code",
   "execution_count": 49,
   "id": "2ea512e3",
   "metadata": {},
   "outputs": [
    {
     "data": {
      "text/plain": [
       "(4, 3)"
      ]
     },
     "execution_count": 49,
     "metadata": {},
     "output_type": "execute_result"
    }
   ],
   "source": [
    "df.shape"
   ]
  },
  {
   "cell_type": "markdown",
   "id": "cd7742a4",
   "metadata": {},
   "source": [
    "### summary dataframes"
   ]
  },
  {
   "cell_type": "code",
   "execution_count": null,
   "id": "3576b61c",
   "metadata": {},
   "outputs": [
    {
     "name": "stdout",
     "output_type": "stream",
     "text": [
      "     A    B    C\n",
      "x  1.0  2.0  3.0\n",
      "y  NaN  5.0  NaN\n",
      "z  7.0  8.0  9.0\n",
      "[ 1. nan  7.]\n",
      "A    2\n",
      "B    3\n",
      "C    2\n",
      "dtype: int64\n"
     ]
    }
   ],
   "source": [
    "matrix = np.array([[1, 2, 3],[np.nan, 5, np.nan],[7, 8, 9]])\n",
    "colums = ['A', 'B', 'C']\n",
    "index = ['x', 'y', 'z']\n",
    "my_df = pd.DataFrame(matrix, columns=colums, index=index)\n",
    "print(my_df)\n",
    "# my_df.A\n",
    "# my_df.loc['z']\n",
    "# my_df.iloc[1]  \n",
    "# my_df['z'] # key error\n",
    "# my_df['B']\n",
    "# print(my_df.info())\n",
    "# print(df.index.tolist())\n",
    "# print(my_df.columns)\n",
    "# print(my_df.describe())\n",
    "# print(my_df.shape)\n",
    "# print(my_df.size)\n",
    "print(my_df['A'].unique())\n",
    "print(my_df.nunique())\n",
    "# print(my_df['A'].unique())"
   ]
  },
  {
   "cell_type": "markdown",
   "id": "4fcca531",
   "metadata": {},
   "source": [
    "## Loading in Dataframes from Files"
   ]
  },
  {
   "cell_type": "code",
   "execution_count": 50,
   "id": "65f4807f",
   "metadata": {},
   "outputs": [
    {
     "data": {
      "text/html": [
       "<div>\n",
       "<style scoped>\n",
       "    .dataframe tbody tr th:only-of-type {\n",
       "        vertical-align: middle;\n",
       "    }\n",
       "\n",
       "    .dataframe tbody tr th {\n",
       "        vertical-align: top;\n",
       "    }\n",
       "\n",
       "    .dataframe thead th {\n",
       "        text-align: right;\n",
       "    }\n",
       "</style>\n",
       "<table border=\"1\" class=\"dataframe\">\n",
       "  <thead>\n",
       "    <tr style=\"text-align: right;\">\n",
       "      <th></th>\n",
       "      <th>Day</th>\n",
       "      <th>Coffee Type</th>\n",
       "      <th>Units Sold</th>\n",
       "    </tr>\n",
       "  </thead>\n",
       "  <tbody>\n",
       "    <tr>\n",
       "      <th>3</th>\n",
       "      <td>Tuesday</td>\n",
       "      <td>Latte</td>\n",
       "      <td>20</td>\n",
       "    </tr>\n",
       "    <tr>\n",
       "      <th>7</th>\n",
       "      <td>Thursday</td>\n",
       "      <td>Latte</td>\n",
       "      <td>30</td>\n",
       "    </tr>\n",
       "    <tr>\n",
       "      <th>6</th>\n",
       "      <td>Thursday</td>\n",
       "      <td>Espresso</td>\n",
       "      <td>40</td>\n",
       "    </tr>\n",
       "    <tr>\n",
       "      <th>2</th>\n",
       "      <td>Tuesday</td>\n",
       "      <td>Espresso</td>\n",
       "      <td>30</td>\n",
       "    </tr>\n",
       "    <tr>\n",
       "      <th>10</th>\n",
       "      <td>Saturday</td>\n",
       "      <td>Espresso</td>\n",
       "      <td>45</td>\n",
       "    </tr>\n",
       "    <tr>\n",
       "      <th>4</th>\n",
       "      <td>Wednesday</td>\n",
       "      <td>Espresso</td>\n",
       "      <td>35</td>\n",
       "    </tr>\n",
       "    <tr>\n",
       "      <th>1</th>\n",
       "      <td>Monday</td>\n",
       "      <td>Latte</td>\n",
       "      <td>15</td>\n",
       "    </tr>\n",
       "    <tr>\n",
       "      <th>12</th>\n",
       "      <td>Sunday</td>\n",
       "      <td>Espresso</td>\n",
       "      <td>45</td>\n",
       "    </tr>\n",
       "    <tr>\n",
       "      <th>0</th>\n",
       "      <td>Monday</td>\n",
       "      <td>Espresso</td>\n",
       "      <td>25</td>\n",
       "    </tr>\n",
       "    <tr>\n",
       "      <th>13</th>\n",
       "      <td>Sunday</td>\n",
       "      <td>Latte</td>\n",
       "      <td>35</td>\n",
       "    </tr>\n",
       "  </tbody>\n",
       "</table>\n",
       "</div>"
      ],
      "text/plain": [
       "          Day Coffee Type  Units Sold\n",
       "3     Tuesday       Latte          20\n",
       "7    Thursday       Latte          30\n",
       "6    Thursday    Espresso          40\n",
       "2     Tuesday    Espresso          30\n",
       "10   Saturday    Espresso          45\n",
       "4   Wednesday    Espresso          35\n",
       "1      Monday       Latte          15\n",
       "12     Sunday    Espresso          45\n",
       "0      Monday    Espresso          25\n",
       "13     Sunday       Latte          35"
      ]
     },
     "execution_count": 50,
     "metadata": {},
     "output_type": "execute_result"
    }
   ],
   "source": [
    "#results = pd.read_csv('./data/result.csv')\n",
    "coffee = pd.read_csv('./data/coffee.csv')\n",
    "bios = pd.read_csv('https://raw.githubusercontent.com/KeithGalli/complete-pandas-tutorial/refs/heads/master/data/bios.csv')\n",
    "results_parquet = pd.read_parquet('./data/results.parquet') # need to be installed pip install pyarrow\n",
    "regions = pd.read_csv(\"https://raw.githubusercontent.com/KeithGalli/complete-pandas-tutorial/refs/heads/master/data/noc_regions.csv\")\n",
    "coffee\n",
    "coffee.sample(10, random_state=1)"
   ]
  },
  {
   "cell_type": "code",
   "execution_count": null,
   "id": "3a120df4",
   "metadata": {},
   "outputs": [],
   "source": [
    "olympics_data = pd.read_excel('./data/olympics-data.xlsx', sheet_name=\"results\")\n",
    "#need to install 'pip install openpyxl'\n",
    "olympics_data.head()"
   ]
  },
  {
   "cell_type": "code",
   "execution_count": null,
   "id": "fdaaade0",
   "metadata": {},
   "outputs": [],
   "source": [
    "import os\n",
    "print(os.getcwd())       \n",
    "print(os.listdir('./'))   \n",
    "print(os.listdir('./data'))  "
   ]
  },
  {
   "cell_type": "markdown",
   "id": "4e78d721",
   "metadata": {},
   "source": [
    "Accessing Data with Pandas"
   ]
  },
  {
   "cell_type": "code",
   "execution_count": null,
   "id": "2c694a36",
   "metadata": {},
   "outputs": [],
   "source": [
    "# loc\n",
    "# coffee.loc[Rows, Columns]\n",
    "\n",
    "print()\n",
    "print(coffee.loc[0])\n",
    "print()\n",
    "print(coffee.loc[[0,1,5]])\n",
    "print()\n",
    "print(coffee.loc[5:9, [\"Day\", \"Units Sold\"]])\n",
    "print()\n",
    "print(coffee.iloc[:, [0,2]])"
   ]
  },
  {
   "cell_type": "markdown",
   "id": "204ecab1",
   "metadata": {},
   "source": [
    "loc - the name of a row or column, but not the position\n",
    "https://pandas.pydata.org/docs/reference/api/pandas.DataFrame.loc.html#pandas.DataFrame.loc\n",
    "\n",
    "iloc - by row or column number (as in Python lists)\n",
    "https://pandas.pydata.org/docs/reference/api/pandas.DataFrame.iloc.html#pandas.DataFrame.iloc"
   ]
  },
  {
   "cell_type": "markdown",
   "id": "1f5cd968",
   "metadata": {},
   "source": [
    "Other Stuff"
   ]
  },
  {
   "cell_type": "code",
   "execution_count": null,
   "id": "0dfd75b4",
   "metadata": {},
   "outputs": [],
   "source": [
    "print()\n",
    "coffee.index = coffee[\"Day\"] #to change index\n",
    "print() \n",
    "coffee = pd.read_csv('./warmup-data/coffee.csv')"
   ]
  },
  {
   "cell_type": "code",
   "execution_count": null,
   "id": "27a17d2a",
   "metadata": {},
   "outputs": [],
   "source": [
    "coffee.loc[1:3, \"Units Sold\"] = 10 # to set value\n",
    "\n",
    "# to access only one element\n",
    "coffee.at[0,\"Units Sold\"] \n",
    "coffee.iat[3,1]"
   ]
  },
  {
   "cell_type": "code",
   "execution_count": null,
   "id": "79ef0179",
   "metadata": {},
   "outputs": [],
   "source": [
    "# to access collums\n",
    "coffee.Day #if its a single word\n",
    "coffee[\"Day\"]"
   ]
  },
  {
   "cell_type": "code",
   "execution_count": null,
   "id": "d38a8df6",
   "metadata": {},
   "outputs": [],
   "source": [
    "#Sort Values\n",
    "\n",
    "print()\n",
    "coffee.sort_values([\"Units Sold\"])\n",
    "print()\n",
    "coffee.sort_values([\"Units Sold\"], ascending=False)\n",
    "print()\n",
    "coffee.sort_values([\"Units Sold\", \"Coffee Type\"], ascending=[0,1])\n",
    "# 0 → descending\n",
    "# 1 → ascending"
   ]
  },
  {
   "cell_type": "markdown",
   "id": "04372d8c",
   "metadata": {},
   "source": [
    "##### Iterate over dataframe with for loop"
   ]
  },
  {
   "cell_type": "code",
   "execution_count": null,
   "id": "91869224",
   "metadata": {},
   "outputs": [],
   "source": [
    "for index, row in coffee.iterrows():\n",
    "    print(index)\n",
    "    print(row)\n",
    "    print(\"Coffee Type of Row:\", row[\"Coffee Type\"])"
   ]
  },
  {
   "cell_type": "markdown",
   "id": "59cec4ee",
   "metadata": {},
   "source": [
    "#### Filtering Data"
   ]
  },
  {
   "cell_type": "code",
   "execution_count": null,
   "id": "2f9ccf72",
   "metadata": {},
   "outputs": [],
   "source": [
    "bios.head()"
   ]
  },
  {
   "cell_type": "code",
   "execution_count": null,
   "id": "9468e566",
   "metadata": {},
   "outputs": [],
   "source": [
    "bios.loc[bios[\"height_cm\"] > 215]\n",
    "bios.loc[bios[\"height_cm\"] > 215, [\"name\", \"height_cm\"]]\n",
    "bios[bios['height_cm'] > 215][[\"name\",\"height_cm\"]] # Short-hand syntax (without .loc)\n",
    "bios[(bios['height_cm'] > 215) & (bios['born_country']=='USA')] # Multiple filter conditions\n",
    "bios[bios['name'].str.contains(\"keith\", case=False)] # Filter by string conditions"
   ]
  },
  {
   "cell_type": "markdown",
   "id": "9ca63039",
   "metadata": {},
   "source": [
    "### Filter by string conditions"
   ]
  },
  {
   "cell_type": "code",
   "execution_count": null,
   "id": "7faac4e6",
   "metadata": {},
   "outputs": [],
   "source": [
    "bios[bios['name'].str.contains(\"keith\", case=False)] # Filter by string conditions\n",
    "bios[bios['name'].str.contains('keith|patrick', case=False)]"
   ]
  },
  {
   "cell_type": "code",
   "execution_count": null,
   "id": "4297fecc",
   "metadata": {},
   "outputs": [],
   "source": [
    "# Other cool regex filters\n",
    "\n",
    "# Find athletes born in cities that start with a vowel:\n",
    "vowel_cities = bios[bios['born_city'].str.contains(r'^[AEIOUaeiou]', na=False)]\n",
    "\n",
    "# Find athletes with names that contain exactly two vowels:\n",
    "two_vowels = bios[bios['name'].str.contains(r'^[^AEIOUaeiou]*[AEIOUaeiou][^AEIOUaeiou]*[AEIOUaeiou][^AEIOUaeiou]*$', na=False)]\n",
    "\n",
    "# Find athletes with names that have repeated consecutive letters (e.g., \"Aaron\", \"Emmett\"):\n",
    "repeated_letters = bios[bios['name'].str.contains(r'(.)\\1', na=False)]\n",
    "\n",
    "# Find athletes with names ending in 'son' or 'sen':\n",
    "son_sen_names = bios[bios['name'].str.contains(r'son$|sen$', case=False, na=False)]\n",
    "\n",
    "# Find athletes born in a year starting with '19':\n",
    "born_19xx = bios[bios['born_date'].str.contains(r'^19', na=False)]\n",
    "\n",
    "# Find athletes with names that do not contain any vowels:\n",
    "no_vowels = bios[bios['name'].str.contains(r'^[^AEIOUaeiou]*$', na=False)]\n",
    "\n",
    "# Find athletes whose names contain a hyphen or an apostrophe:\n",
    "hyphen_apostrophe = bios[bios['name'].str.contains(r\"[-']\", na=False)]\n",
    "\n",
    "# Find athletes with names that start and end with the same letter:\n",
    "start_end_same = bios[bios['name'].str.contains(r'^(.).*\\1$', na=False, case=False)]\n",
    "\n",
    "# Find athletes with a born_city that has exactly 7 characters:\n",
    "city_seven_chars = bios[bios['born_city'].str.contains(r'^.{7}$', na=False)]\n",
    "\n",
    "# Find athletes with names containing three or more vowels:\n",
    "three_or_more_vowels = bios[bios['name'].str.contains(r'([AEIOUaeiou].*){3,}', na=False)]"
   ]
  },
  {
   "cell_type": "markdown",
   "id": "96124f53",
   "metadata": {},
   "source": [
    "### Query functions"
   ]
  },
  {
   "cell_type": "code",
   "execution_count": null,
   "id": "369d3bee",
   "metadata": {},
   "outputs": [],
   "source": [
    "bios.query('born_country == \"USA\" and born_city == \"Seattle\"')"
   ]
  },
  {
   "cell_type": "markdown",
   "id": "371ecdb8",
   "metadata": {},
   "source": [
    "## Adding / Removing Columns"
   ]
  },
  {
   "cell_type": "code",
   "execution_count": null,
   "id": "073cab1d",
   "metadata": {},
   "outputs": [],
   "source": [
    "coffee['price'] = 4.99\n",
    "coffee.head()"
   ]
  },
  {
   "cell_type": "code",
   "execution_count": null,
   "id": "ce214733",
   "metadata": {},
   "outputs": [],
   "source": [
    "coffee['new_price'] = np.where(coffee['Coffee Type']=='Espresso', 3.99, 5.99) \n",
    "# if the column does not yet exist, it is created"
   ]
  },
  {
   "cell_type": "code",
   "execution_count": null,
   "id": "cd804617",
   "metadata": {},
   "outputs": [],
   "source": [
    "coffee"
   ]
  },
  {
   "cell_type": "code",
   "execution_count": null,
   "id": "b3a8d42b",
   "metadata": {},
   "outputs": [],
   "source": [
    "coffee.drop(columns=['price'], inplace=True) # to delete a column or row\n",
    "# inplace=True -> to change DataFrame\n",
    "# inplace=False, by default -> to make a new copy of the DataFrame\n",
    "\n",
    "# the below would also have worked\n",
    "# coffee = coffee.drop(columns=['price'])"
   ]
  },
  {
   "cell_type": "markdown",
   "id": "90ad8f17",
   "metadata": {},
   "source": [
    "https://pandas.pydata.org/docs/reference/api/pandas.DataFrame.drop.html#pandas.DataFrame.drop"
   ]
  },
  {
   "cell_type": "code",
   "execution_count": null,
   "id": "ed5dc5b0",
   "metadata": {},
   "outputs": [],
   "source": [
    "coffee = coffee[['Day', 'Coffee Type', 'Units Sold', 'new_price']]\n",
    "coffee['revenue'] = coffee['Units Sold'] * coffee['new_price']\n",
    "coffee"
   ]
  },
  {
   "cell_type": "code",
   "execution_count": null,
   "id": "855b6590",
   "metadata": {},
   "outputs": [],
   "source": [
    "new_coffee = coffee # a link\n",
    "new_coffee = coffee.copy() # a copy\n",
    "new_coffee['price'] = 4.99"
   ]
  },
  {
   "cell_type": "code",
   "execution_count": null,
   "id": "30a225da",
   "metadata": {},
   "outputs": [],
   "source": [
    "coffee"
   ]
  },
  {
   "cell_type": "code",
   "execution_count": null,
   "id": "36f05565",
   "metadata": {},
   "outputs": [],
   "source": [
    "new_coffee"
   ]
  },
  {
   "cell_type": "code",
   "execution_count": null,
   "id": "44024542",
   "metadata": {},
   "outputs": [],
   "source": [
    "coffee.rename(columns={'new_price': 'price'}, inplace=True)"
   ]
  },
  {
   "cell_type": "code",
   "execution_count": null,
   "id": "ccdb9f3c",
   "metadata": {},
   "outputs": [],
   "source": [
    "bios_new = bios.copy()\n",
    "bios_new['first_name'] = bios_new['name'].str.split(' ').str[0]\n",
    "bios_new.query('first_name == \"Keith\"')"
   ]
  },
  {
   "cell_type": "code",
   "execution_count": null,
   "id": "65a81492",
   "metadata": {},
   "outputs": [],
   "source": [
    "bios_new['born_datetime'] = pd.to_datetime(bios_new['born_date'])\n",
    "bios_new['born_year'] = bios_new['born_datetime'].dt.year\n",
    "bios_new[['name','born_year']]"
   ]
  },
  {
   "cell_type": "code",
   "execution_count": null,
   "id": "417bc51b",
   "metadata": {},
   "outputs": [],
   "source": [
    "bios_new.to_csv('./data/bios_new.csv', index=False) # index=False -> do not save the index to a file \n",
    "bios['height_category'] = bios['height_cm'].apply(lambda x: 'Short' if x < 165 else ('Average' if x < 185 else 'Tall'))\n",
    "\n",
    "def categorize_athlete(row):\n",
    "    if row['height_cm'] < 175 and row['weight_kg'] < 70:\n",
    "        return 'Lightweight'\n",
    "    elif row['height_cm'] < 185 or row['weight_kg'] <= 80:\n",
    "        return 'Middleweight'\n",
    "    \n",
    "    else:\n",
    "        return 'Heavyweight'\n",
    "    \n",
    "bios['Category'] = bios.apply(categorize_athlete, axis=1)\n",
    "# axis=1 -> rows\n",
    "# axis=0 -> colums\n",
    "\n",
    "bios.head()"
   ]
  },
  {
   "cell_type": "markdown",
   "id": "1d97e8d9",
   "metadata": {},
   "source": [
    "## Merging & Concatenating Data"
   ]
  },
  {
   "cell_type": "code",
   "execution_count": null,
   "id": "7249e729",
   "metadata": {},
   "outputs": [],
   "source": [
    "nocs = pd.read_csv('https://raw.githubusercontent.com/KeithGalli/complete-pandas-tutorial/refs/heads/master/data/noc_regions.csv')\n",
    "\n",
    "bios_new = pd.merge(bios, nocs, left_on='born_country', right_on='NOC', how='left')\n",
    "bios_new.rename(columns={'region': 'born_country_full'}, inplace=True)\n",
    "\n",
    "usa = bios[bios['born_country']=='USA'].copy()\n",
    "gbr = bios[bios['born_country']=='GBR'].copy()\n",
    "\n",
    "new_df = pd.concat([usa,gbr])\n",
    "\n",
    "new_df.tail()"
   ]
  },
  {
   "attachments": {
    "image.png": {
     "image/png": "[encoded data removed]"
    }
   },
   "cell_type": "markdown",
   "id": "2ca72303",
   "metadata": {},
   "source": [
    "![image.png](attachment:image.png)"
   ]
  },
  {
   "cell_type": "code",
   "execution_count": null,
   "id": "f85a725f",
   "metadata": {},
   "outputs": [],
   "source": [
    "# combined_df = pd.merge(results, bios, on='athlete_id', how='left')\n",
    "# combined_df.head()"
   ]
  },
  {
   "cell_type": "markdown",
   "id": "83d3955a",
   "metadata": {},
   "source": [
    "### Handling Null Values"
   ]
  },
  {
   "cell_type": "code",
   "execution_count": null,
   "id": "e56aade2",
   "metadata": {},
   "outputs": [],
   "source": [
    "coffee.loc[[2,3], 'Units Sold'] = np.nan\n",
    "coffee['Units Sold'].fillna(coffee['Units Sold'].mean(), inplace=True) # mean of the whole collum\n",
    "# coffee['Units Sold'] = coffee['Units Sold'].interpolate()\n",
    "coffee['Units Sold'].interpolate()\n",
    "coffee.dropna(subset=['Units Sold']) # Use inplace=True if you want to update the coffee df\n",
    "coffee[coffee['Units Sold'].notna()]\n",
    "coffee"
   ]
  },
  {
   "cell_type": "code",
   "execution_count": null,
   "id": "3bde3e84",
   "metadata": {},
   "outputs": [],
   "source": [
    "coffee.loc[[2,3], 'Units Sold'] = np.nan\n",
    "coffee['Units Sold'].fillna(coffee['Units Sold'].mean()) "
   ]
  },
  {
   "cell_type": "code",
   "execution_count": null,
   "id": "8d73fe39",
   "metadata": {},
   "outputs": [],
   "source": [
    "coffee"
   ]
  },
  {
   "cell_type": "markdown",
   "id": "ae87708e",
   "metadata": {},
   "source": [
    "### Aggregating Data"
   ]
  },
  {
   "cell_type": "code",
   "execution_count": null,
   "id": "7d1b826d",
   "metadata": {},
   "outputs": [],
   "source": [
    "bios.head()\n",
    "bios['born_city'].value_counts()"
   ]
  },
  {
   "cell_type": "code",
   "execution_count": null,
   "id": "6f91f31a",
   "metadata": {},
   "outputs": [],
   "source": [
    "bios[bios['born_country']=='USA']['born_region'].value_counts().head(10)"
   ]
  },
  {
   "cell_type": "code",
   "execution_count": null,
   "id": "f2a2fe79",
   "metadata": {},
   "outputs": [],
   "source": [
    "bios[bios['born_country']=='USA']['born_region'].value_counts().tail(25)"
   ]
  },
  {
   "cell_type": "markdown",
   "id": "6844d9c4",
   "metadata": {},
   "source": [
    "#### Groupby function in Pandas"
   ]
  },
  {
   "cell_type": "code",
   "execution_count": null,
   "id": "92c7fbe3",
   "metadata": {},
   "outputs": [],
   "source": [
    "coffee.groupby(['Coffee Type'])['Units Sold'].sum()"
   ]
  },
  {
   "cell_type": "code",
   "execution_count": null,
   "id": "c1d71e1c",
   "metadata": {},
   "outputs": [],
   "source": [
    "coffee.groupby(['Coffee Type'])['Units Sold'].mean()"
   ]
  },
  {
   "cell_type": "code",
   "execution_count": null,
   "id": "0fae2739",
   "metadata": {},
   "outputs": [],
   "source": [
    "coffee.groupby(['Coffee Type', 'Day']).agg({'Units Sold': 'sum'})"
   ]
  },
  {
   "cell_type": "markdown",
   "id": "b5cc8193",
   "metadata": {},
   "source": [
    "#### Pivot Tables"
   ]
  },
  {
   "cell_type": "code",
   "execution_count": null,
   "id": "d0de2923",
   "metadata": {},
   "outputs": [],
   "source": [
    "pivot = coffee.pivot(columns='Coffee Type', index='Day', values='revenue')"
   ]
  },
  {
   "cell_type": "code",
   "execution_count": null,
   "id": "b3822c62",
   "metadata": {},
   "outputs": [],
   "source": [
    "pivot.sum()\n",
    "pivot.sum(axis=1)"
   ]
  },
  {
   "cell_type": "markdown",
   "id": "4348eedd",
   "metadata": {},
   "source": [
    "#### Using datetime with Groupby"
   ]
  },
  {
   "cell_type": "code",
   "execution_count": null,
   "id": "d5e533b4",
   "metadata": {},
   "outputs": [],
   "source": []
  }
 ],
 "metadata": {
  "kernelspec": {
   "display_name": "venv (3.12.6)",
   "language": "python",
   "name": "python3"
  },
  "language_info": {
   "codemirror_mode": {
    "name": "ipython",
    "version": 3
   },
   "file_extension": ".py",
   "mimetype": "text/x-python",
   "name": "python",
   "nbconvert_exporter": "python",
   "pygments_lexer": "ipython3",
   "version": "3.12.6"
  }
 },
 "nbformat": 4,
 "nbformat_minor": 5
}
