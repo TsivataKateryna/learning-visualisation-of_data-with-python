{
 "cells": [
  {
   "cell_type": "markdown",
   "id": "36abebad",
   "metadata": {},
   "source": [
    "Source: https://www.youtube.com/watch?v=2uvysYbKdjM&t=12s"
   ]
  },
  {
   "cell_type": "code",
   "execution_count": 13,
   "id": "9b91b738",
   "metadata": {},
   "outputs": [],
   "source": [
    "import pandas as pd\n",
    "import numpy as np"
   ]
  },
  {
   "cell_type": "markdown",
   "id": "19a1f57b",
   "metadata": {},
   "source": [
    "DataFrames"
   ]
  },
  {
   "cell_type": "code",
   "execution_count": null,
   "id": "2573380c",
   "metadata": {},
   "outputs": [],
   "source": [
    "print(pd.__file__)\n",
    "df = pd.DataFrame([[1,2,3],[4,5,6],[7,8,9],[10,11,12]], columns=[\"A\", \"B\", \"C\"], index=[\"x\",\"y\",\"z\",'zz'])\n",
    "print(df)"
   ]
  },
  {
   "cell_type": "code",
   "execution_count": null,
   "id": "f97bc54d",
   "metadata": {},
   "outputs": [],
   "source": [
    "print(\"5 lines par default\")\n",
    "df.head() # 5 lines par default\n",
    "df.head(3) "
   ]
  },
  {
   "cell_type": "code",
   "execution_count": null,
   "id": "938696d8",
   "metadata": {},
   "outputs": [],
   "source": [
    "df.tail(2) "
   ]
  },
  {
   "cell_type": "code",
   "execution_count": null,
   "id": "ee64249d",
   "metadata": {},
   "outputs": [],
   "source": [
    "print(\"df.index.tolist():\")\n",
    "print(df.index.tolist())\n",
    "\n",
    "print(\"\\ndf.columns:\")\n",
    "print(df.columns)\n",
    "\n",
    "print(\"\\ndf.info():\")\n",
    "df.info()\n"
   ]
  },
  {
   "cell_type": "markdown",
   "id": "b5cafd0a",
   "metadata": {},
   "source": [
    "Python Pandas"
   ]
  },
  {
   "cell_type": "code",
   "execution_count": null,
   "id": "01dd3480",
   "metadata": {},
   "outputs": [],
   "source": [
    "df.describe()\n",
    "#std - standard deviation"
   ]
  },
  {
   "cell_type": "code",
   "execution_count": null,
   "id": "1ba31a84",
   "metadata": {},
   "outputs": [],
   "source": [
    "df.nunique()\n",
    "df['A'].unique()"
   ]
  },
  {
   "cell_type": "code",
   "execution_count": null,
   "id": "17217a1e",
   "metadata": {},
   "outputs": [],
   "source": [
    "df.size # n * m"
   ]
  },
  {
   "cell_type": "code",
   "execution_count": null,
   "id": "2ea512e3",
   "metadata": {},
   "outputs": [],
   "source": [
    "df.shape"
   ]
  },
  {
   "cell_type": "markdown",
   "id": "4fcca531",
   "metadata": {},
   "source": [
    "Loading in Dataframes from Files"
   ]
  },
  {
   "cell_type": "code",
   "execution_count": 14,
   "id": "65f4807f",
   "metadata": {},
   "outputs": [
    {
     "data": {
      "text/html": [
       "<div>\n",
       "<style scoped>\n",
       "    .dataframe tbody tr th:only-of-type {\n",
       "        vertical-align: middle;\n",
       "    }\n",
       "\n",
       "    .dataframe tbody tr th {\n",
       "        vertical-align: top;\n",
       "    }\n",
       "\n",
       "    .dataframe thead th {\n",
       "        text-align: right;\n",
       "    }\n",
       "</style>\n",
       "<table border=\"1\" class=\"dataframe\">\n",
       "  <thead>\n",
       "    <tr style=\"text-align: right;\">\n",
       "      <th></th>\n",
       "      <th>Day</th>\n",
       "      <th>Coffee Type</th>\n",
       "      <th>Units Sold</th>\n",
       "    </tr>\n",
       "  </thead>\n",
       "  <tbody>\n",
       "    <tr>\n",
       "      <th>3</th>\n",
       "      <td>Tuesday</td>\n",
       "      <td>Latte</td>\n",
       "      <td>20</td>\n",
       "    </tr>\n",
       "    <tr>\n",
       "      <th>7</th>\n",
       "      <td>Thursday</td>\n",
       "      <td>Latte</td>\n",
       "      <td>30</td>\n",
       "    </tr>\n",
       "    <tr>\n",
       "      <th>6</th>\n",
       "      <td>Thursday</td>\n",
       "      <td>Espresso</td>\n",
       "      <td>40</td>\n",
       "    </tr>\n",
       "    <tr>\n",
       "      <th>2</th>\n",
       "      <td>Tuesday</td>\n",
       "      <td>Espresso</td>\n",
       "      <td>30</td>\n",
       "    </tr>\n",
       "    <tr>\n",
       "      <th>10</th>\n",
       "      <td>Saturday</td>\n",
       "      <td>Espresso</td>\n",
       "      <td>45</td>\n",
       "    </tr>\n",
       "    <tr>\n",
       "      <th>4</th>\n",
       "      <td>Wednesday</td>\n",
       "      <td>Espresso</td>\n",
       "      <td>35</td>\n",
       "    </tr>\n",
       "    <tr>\n",
       "      <th>1</th>\n",
       "      <td>Monday</td>\n",
       "      <td>Latte</td>\n",
       "      <td>15</td>\n",
       "    </tr>\n",
       "    <tr>\n",
       "      <th>12</th>\n",
       "      <td>Sunday</td>\n",
       "      <td>Espresso</td>\n",
       "      <td>45</td>\n",
       "    </tr>\n",
       "    <tr>\n",
       "      <th>0</th>\n",
       "      <td>Monday</td>\n",
       "      <td>Espresso</td>\n",
       "      <td>25</td>\n",
       "    </tr>\n",
       "    <tr>\n",
       "      <th>13</th>\n",
       "      <td>Sunday</td>\n",
       "      <td>Latte</td>\n",
       "      <td>35</td>\n",
       "    </tr>\n",
       "  </tbody>\n",
       "</table>\n",
       "</div>"
      ],
      "text/plain": [
       "          Day Coffee Type  Units Sold\n",
       "3     Tuesday       Latte          20\n",
       "7    Thursday       Latte          30\n",
       "6    Thursday    Espresso          40\n",
       "2     Tuesday    Espresso          30\n",
       "10   Saturday    Espresso          45\n",
       "4   Wednesday    Espresso          35\n",
       "1      Monday       Latte          15\n",
       "12     Sunday    Espresso          45\n",
       "0      Monday    Espresso          25\n",
       "13     Sunday       Latte          35"
      ]
     },
     "execution_count": 14,
     "metadata": {},
     "output_type": "execute_result"
    }
   ],
   "source": [
    "#results = pd.read_csv('./data/result.csv')\n",
    "coffee = pd.read_csv('./data/coffee.csv')\n",
    "bios = pd.read_csv('https://raw.githubusercontent.com/KeithGalli/complete-pandas-tutorial/refs/heads/master/data/bios.csv')\n",
    "results_parquet = pd.read_parquet('./data/results.parquet') # need to be installed pip install pyarrow\n",
    "regions = pd.read_csv(\"https://raw.githubusercontent.com/KeithGalli/complete-pandas-tutorial/refs/heads/master/data/noc_regions.csv\")\n",
    "coffee\n",
    "coffee.sample(10, random_state=1)"
   ]
  },
  {
   "cell_type": "code",
   "execution_count": null,
   "id": "3a120df4",
   "metadata": {},
   "outputs": [],
   "source": [
    "olympics_data = pd.read_excel('./data/olympics-data.xlsx', sheet_name=\"results\")\n",
    "#need to install 'pip install openpyxl'\n",
    "olympics_data.head()"
   ]
  },
  {
   "cell_type": "code",
   "execution_count": null,
   "id": "fdaaade0",
   "metadata": {},
   "outputs": [],
   "source": [
    "import os\n",
    "print(os.getcwd())       \n",
    "print(os.listdir('./'))   \n",
    "print(os.listdir('./data'))  "
   ]
  },
  {
   "cell_type": "markdown",
   "id": "4e78d721",
   "metadata": {},
   "source": [
    "Accessing Data with Pandas"
   ]
  },
  {
   "cell_type": "code",
   "execution_count": null,
   "id": "2c694a36",
   "metadata": {},
   "outputs": [],
   "source": [
    "# loc\n",
    "# coffee.loc[Rows, Columns]\n",
    "\n",
    "print()\n",
    "print(coffee.loc[0])\n",
    "print()\n",
    "print(coffee.loc[[0,1,5]])\n",
    "print()\n",
    "print(coffee.loc[5:9, [\"Day\", \"Units Sold\"]])\n",
    "print()\n",
    "print(coffee.iloc[:, [0,2]])"
   ]
  },
  {
   "cell_type": "markdown",
   "id": "204ecab1",
   "metadata": {},
   "source": [
    "loc - the name of a row or column, but not the position\n",
    "https://pandas.pydata.org/docs/reference/api/pandas.DataFrame.loc.html#pandas.DataFrame.loc\n",
    "\n",
    "iloc - by row or column number (as in Python lists)\n",
    "https://pandas.pydata.org/docs/reference/api/pandas.DataFrame.iloc.html#pandas.DataFrame.iloc"
   ]
  },
  {
   "cell_type": "markdown",
   "id": "1f5cd968",
   "metadata": {},
   "source": [
    "Other Stuff"
   ]
  },
  {
   "cell_type": "code",
   "execution_count": null,
   "id": "0dfd75b4",
   "metadata": {},
   "outputs": [],
   "source": [
    "print()\n",
    "coffee.index = coffee[\"Day\"] #to change index\n",
    "print() \n",
    "coffee = pd.read_csv('./warmup-data/coffee.csv')"
   ]
  },
  {
   "cell_type": "code",
   "execution_count": null,
   "id": "27a17d2a",
   "metadata": {},
   "outputs": [],
   "source": [
    "coffee.loc[1:3, \"Units Sold\"] = 10 # to set value\n",
    "\n",
    "# to access only one element\n",
    "coffee.at[0,\"Units Sold\"] \n",
    "coffee.iat[3,1]"
   ]
  },
  {
   "cell_type": "code",
   "execution_count": null,
   "id": "79ef0179",
   "metadata": {},
   "outputs": [],
   "source": [
    "# to access collums\n",
    "coffee.Day #if its a single word\n",
    "coffee[\"Day\"]"
   ]
  },
  {
   "cell_type": "code",
   "execution_count": null,
   "id": "d38a8df6",
   "metadata": {},
   "outputs": [],
   "source": [
    "#Sort Values\n",
    "\n",
    "print()\n",
    "coffee.sort_values([\"Units Sold\"])\n",
    "print()\n",
    "coffee.sort_values([\"Units Sold\"], ascending=False)\n",
    "print()\n",
    "coffee.sort_values([\"Units Sold\", \"Coffee Type\"], ascending=[0,1])\n",
    "# 0 → descending\n",
    "# 1 → ascending"
   ]
  },
  {
   "cell_type": "markdown",
   "id": "04372d8c",
   "metadata": {},
   "source": [
    "##### Iterate over dataframe with for loop"
   ]
  },
  {
   "cell_type": "code",
   "execution_count": null,
   "id": "91869224",
   "metadata": {},
   "outputs": [],
   "source": [
    "for index, row in coffee.iterrows():\n",
    "    print(index)\n",
    "    print(row)\n",
    "    print(\"Coffee Type of Row:\", row[\"Coffee Type\"])"
   ]
  },
  {
   "cell_type": "markdown",
   "id": "59cec4ee",
   "metadata": {},
   "source": [
    "#### Filtering Data"
   ]
  },
  {
   "cell_type": "code",
   "execution_count": null,
   "id": "2f9ccf72",
   "metadata": {},
   "outputs": [],
   "source": [
    "bios.head()"
   ]
  },
  {
   "cell_type": "code",
   "execution_count": null,
   "id": "9468e566",
   "metadata": {},
   "outputs": [],
   "source": [
    "bios.loc[bios[\"height_cm\"] > 215]\n",
    "bios.loc[bios[\"height_cm\"] > 215, [\"name\", \"height_cm\"]]\n",
    "bios[bios['height_cm'] > 215][[\"name\",\"height_cm\"]] # Short-hand syntax (without .loc)\n",
    "bios[(bios['height_cm'] > 215) & (bios['born_country']=='USA')] # Multiple filter conditions\n",
    "bios[bios['name'].str.contains(\"keith\", case=False)] # Filter by string conditions"
   ]
  },
  {
   "cell_type": "markdown",
   "id": "9ca63039",
   "metadata": {},
   "source": [
    "### Filter by string conditions"
   ]
  },
  {
   "cell_type": "code",
   "execution_count": null,
   "id": "7faac4e6",
   "metadata": {},
   "outputs": [],
   "source": [
    "bios[bios['name'].str.contains(\"keith\", case=False)] # Filter by string conditions\n",
    "bios[bios['name'].str.contains('keith|patrick', case=False)]"
   ]
  },
  {
   "cell_type": "code",
   "execution_count": null,
   "id": "4297fecc",
   "metadata": {},
   "outputs": [],
   "source": [
    "# Other cool regex filters\n",
    "\n",
    "# Find athletes born in cities that start with a vowel:\n",
    "vowel_cities = bios[bios['born_city'].str.contains(r'^[AEIOUaeiou]', na=False)]\n",
    "\n",
    "# Find athletes with names that contain exactly two vowels:\n",
    "two_vowels = bios[bios['name'].str.contains(r'^[^AEIOUaeiou]*[AEIOUaeiou][^AEIOUaeiou]*[AEIOUaeiou][^AEIOUaeiou]*$', na=False)]\n",
    "\n",
    "# Find athletes with names that have repeated consecutive letters (e.g., \"Aaron\", \"Emmett\"):\n",
    "repeated_letters = bios[bios['name'].str.contains(r'(.)\\1', na=False)]\n",
    "\n",
    "# Find athletes with names ending in 'son' or 'sen':\n",
    "son_sen_names = bios[bios['name'].str.contains(r'son$|sen$', case=False, na=False)]\n",
    "\n",
    "# Find athletes born in a year starting with '19':\n",
    "born_19xx = bios[bios['born_date'].str.contains(r'^19', na=False)]\n",
    "\n",
    "# Find athletes with names that do not contain any vowels:\n",
    "no_vowels = bios[bios['name'].str.contains(r'^[^AEIOUaeiou]*$', na=False)]\n",
    "\n",
    "# Find athletes whose names contain a hyphen or an apostrophe:\n",
    "hyphen_apostrophe = bios[bios['name'].str.contains(r\"[-']\", na=False)]\n",
    "\n",
    "# Find athletes with names that start and end with the same letter:\n",
    "start_end_same = bios[bios['name'].str.contains(r'^(.).*\\1$', na=False, case=False)]\n",
    "\n",
    "# Find athletes with a born_city that has exactly 7 characters:\n",
    "city_seven_chars = bios[bios['born_city'].str.contains(r'^.{7}$', na=False)]\n",
    "\n",
    "# Find athletes with names containing three or more vowels:\n",
    "three_or_more_vowels = bios[bios['name'].str.contains(r'([AEIOUaeiou].*){3,}', na=False)]"
   ]
  },
  {
   "cell_type": "markdown",
   "id": "96124f53",
   "metadata": {},
   "source": [
    "### Query functions"
   ]
  },
  {
   "cell_type": "code",
   "execution_count": null,
   "id": "369d3bee",
   "metadata": {},
   "outputs": [],
   "source": [
    "bios.query('born_country == \"USA\" and born_city == \"Seattle\"')"
   ]
  },
  {
   "cell_type": "markdown",
   "id": "371ecdb8",
   "metadata": {},
   "source": [
    "## Adding / Removing Columns"
   ]
  },
  {
   "cell_type": "code",
   "execution_count": null,
   "id": "073cab1d",
   "metadata": {},
   "outputs": [],
   "source": [
    "coffee['price'] = 4.99\n",
    "coffee.head()"
   ]
  },
  {
   "cell_type": "code",
   "execution_count": null,
   "id": "ce214733",
   "metadata": {},
   "outputs": [],
   "source": [
    "coffee['new_price'] = np.where(coffee['Coffee Type']=='Espresso', 3.99, 5.99) \n",
    "# if the column does not yet exist, it is created"
   ]
  },
  {
   "cell_type": "code",
   "execution_count": null,
   "id": "cd804617",
   "metadata": {},
   "outputs": [],
   "source": [
    "coffee"
   ]
  },
  {
   "cell_type": "code",
   "execution_count": null,
   "id": "b3a8d42b",
   "metadata": {},
   "outputs": [],
   "source": [
    "coffee.drop(columns=['price'], inplace=True) # to delete a column or row\n",
    "# inplace=True -> to change DataFrame\n",
    "# inplace=False, by default -> to make a new copy of the DataFrame\n",
    "\n",
    "# the below would also have worked\n",
    "# coffee = coffee.drop(columns=['price'])"
   ]
  },
  {
   "cell_type": "markdown",
   "id": "90ad8f17",
   "metadata": {},
   "source": [
    "https://pandas.pydata.org/docs/reference/api/pandas.DataFrame.drop.html#pandas.DataFrame.drop"
   ]
  },
  {
   "cell_type": "code",
   "execution_count": null,
   "id": "ed5dc5b0",
   "metadata": {},
   "outputs": [],
   "source": []
  }
 ],
 "metadata": {
  "kernelspec": {
   "display_name": "venv (3.12.6)",
   "language": "python",
   "name": "python3"
  },
  "language_info": {
   "codemirror_mode": {
    "name": "ipython",
    "version": 3
   },
   "file_extension": ".py",
   "mimetype": "text/x-python",
   "name": "python",
   "nbconvert_exporter": "python",
   "pygments_lexer": "ipython3",
   "version": "3.12.6"
  }
 },
 "nbformat": 4,
 "nbformat_minor": 5
}
