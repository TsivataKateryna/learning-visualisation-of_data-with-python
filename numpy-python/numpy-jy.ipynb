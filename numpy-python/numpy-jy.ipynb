{
 "cells": [
  {
   "cell_type": "markdown",
   "id": "cd8e19b4",
   "metadata": {},
   "source": [
    "## ABOUT NUMPY"
   ]
  },
  {
   "cell_type": "markdown",
   "id": "5dfa2a5d",
   "metadata": {},
   "source": [
    "- use fixed type (as dtype=float64)\n",
    "- is faster than lists\n",
    "- SIMD (Single Instruction, Multiple Data) vector processing"
   ]
  },
  {
   "cell_type": "markdown",
   "id": "29db2289",
   "metadata": {},
   "source": [
    "## The Basics"
   ]
  },
  {
   "cell_type": "code",
   "execution_count": null,
   "id": "0880545d",
   "metadata": {},
   "outputs": [],
   "source": [
    "import numpy as np\n",
    "a = np.array([1,2,3], dtype='int32') #par default int64\n",
    "print(a)\n",
    "b = np.array([[9.0,8.0,7.0],[6.0,5.0,4.0]])\n",
    "print(b)"
   ]
  },
  {
   "cell_type": "code",
   "execution_count": null,
   "id": "c87683c8",
   "metadata": {},
   "outputs": [],
   "source": [
    "print(\"Get Dimension\")\n",
    "print(a.ndim)\n",
    "print(\"Get Shape\")\n",
    "print(b.shape)\n",
    "print(\"Get Type\")\n",
    "print(a.dtype) \n",
    "print(\"Get Size\")\n",
    "print(a.itemsize) # size one element in array in bytes\n",
    "print(\"Get total size\")\n",
    "print(a.nbytes) # size of the entire array in bytes\n",
    "print(\"Get number of elements\")\n",
    "print(a.size) # the number of the elements"
   ]
  },
  {
   "cell_type": "code",
   "execution_count": null,
   "id": "5c0a4afa",
   "metadata": {},
   "outputs": [],
   "source": [
    "ar = np.array([1,2,3,4])\n",
    "br = np.ones((1, 4))\n",
    "M = np.outer(a, b)\n",
    "d = np.diag(M)\n",
    "t = np.trace(M)"
   ]
  },
  {
   "cell_type": "markdown",
   "id": "8d04a19a",
   "metadata": {},
   "source": [
    "### Accessing/Changing specific elements, rows, columns, etc"
   ]
  },
  {
   "cell_type": "code",
   "execution_count": null,
   "id": "41350dbe",
   "metadata": {},
   "outputs": [],
   "source": [
    "a = np.array([[1,2,3,4,5,6,7],[8,9,10,11,12,13,14]])\n",
    "print(a)\n",
    "# Get a specific element [r, c]\n",
    "a[1, 5]\n",
    "# Get a specific row \n",
    "a[0, :]\n",
    "# Get a specific column\n",
    "a[:, 2]\n",
    "# Getting a little more fancy [startindex:endindex:stepsize]\n",
    "a[0, 1:-1:2]\n",
    "\n",
    "a[1,5] = 20\n",
    "\n",
    "a[:,2] = [1,2]\n",
    "print(a)"
   ]
  },
  {
   "cell_type": "code",
   "execution_count": null,
   "id": "ddc1aaef",
   "metadata": {},
   "outputs": [],
   "source": [
    "b = np.array([[[1,2],[3,4]],[[5,6],[7,8]]]) #3d matrix\n",
    "print(b)\n",
    "\n",
    "b[0,1,1] # a specific element (work outside in)\n",
    "\n",
    "# b[:,1,:] = [[9,9,9],[8,8]] # replace \n",
    "b[:,1,:] = [[9,9], [8,8]] # replace \n",
    "print(b)"
   ]
  },
  {
   "cell_type": "markdown",
   "id": "59d87b74",
   "metadata": {},
   "source": [
    "### Initializing Different Types of Arrays"
   ]
  },
  {
   "cell_type": "code",
   "execution_count": null,
   "id": "0f6a1c71",
   "metadata": {},
   "outputs": [],
   "source": [
    "np.zeros((2,3)) # All 0s matrix\n",
    "np.ones((4,2,2), dtype='int32') # All 1s matrix (3d matrix)\n",
    "np.full((2,2), 99) # Any other number\n",
    "np.full_like(a, 4) # Any other number (full_like)\n",
    "np.random.rand(4,2) # Random decimal numbers\n",
    "np.random.randint(-4,8, size=(3,3)) # Random Integer values\n",
    "np.identity(5) # The identity matrix"
   ]
  },
  {
   "cell_type": "code",
   "execution_count": null,
   "id": "1f28c1cc",
   "metadata": {},
   "outputs": [],
   "source": [
    "np.ones((4,2,2), dtype='int32') # All 1s matrix"
   ]
  },
  {
   "cell_type": "code",
   "execution_count": null,
   "id": "12b6f72d",
   "metadata": {},
   "outputs": [],
   "source": [
    "# Repeat an array\n",
    "arr = np.array([[1,2,3]])\n",
    "r1 = np.repeat(arr,3, axis=0)\n",
    "print(r1)\n",
    "\n",
    "# axis=0 - to repeat rows\n",
    "# axis=1 - to repeat collums\n",
    "\n",
    "#slices\n",
    "output = np.ones((5,5))\n",
    "print(output)\n",
    "\n",
    "z = np.zeros((3,3))\n",
    "z[1,1] = 9\n",
    "print(z)\n",
    "\n",
    "output[1:-1,1:-1] = z\n",
    "print(output)"
   ]
  },
  {
   "cell_type": "code",
   "execution_count": null,
   "id": "72f9488c",
   "metadata": {},
   "outputs": [],
   "source": [
    "a = np.array([1,2,3])\n",
    "b = a.copy()\n",
    "b[0] = 100 #doesnt change the value of the matrix a\n",
    "\n",
    "print(a)"
   ]
  },
  {
   "cell_type": "markdown",
   "id": "dac48c19",
   "metadata": {},
   "source": [
    "### Mathematics"
   ]
  },
  {
   "cell_type": "code",
   "execution_count": 21,
   "id": "33830c20",
   "metadata": {},
   "outputs": [
    {
     "name": "stdout",
     "output_type": "stream",
     "text": [
      "[1 2 3 4]\n",
      "[3 4 5 6]\n",
      "[1 2 3 4]\n",
      "[2 4 6 8]\n",
      "[1. 2. 3. 4.]\n",
      "[ 1.  4.  9. 16.]\n"
     ]
    }
   ],
   "source": [
    "a = np.array([1,2,3,4])\n",
    "print(a)\n",
    "\n",
    "a = a + 2\n",
    "print(a)\n",
    "\n",
    "a = a - 2\n",
    "print(a)\n",
    "\n",
    "a = a * 2\n",
    "print(a)\n",
    "\n",
    "a = a / 2\n",
    "print(a)\n",
    "\n",
    "a = a ** 2\n",
    "print(a)\n"
   ]
  },
  {
   "cell_type": "code",
   "execution_count": 20,
   "id": "d647f898",
   "metadata": {},
   "outputs": [
    {
     "name": "stdout",
     "output_type": "stream",
     "text": [
      "[2 2 4 4]\n"
     ]
    }
   ],
   "source": [
    "b = np.array([1,0,1,0])\n",
    "d = a + b\n",
    "print(d)\n",
    "\n",
    "c = np.array([1, 0, 1])\n",
    "# f = a + c # error"
   ]
  },
  {
   "cell_type": "markdown",
   "id": "b0a682f4",
   "metadata": {},
   "source": [
    "##### Linear Algebra"
   ]
  },
  {
   "cell_type": "code",
   "execution_count": null,
   "id": "5e033e4b",
   "metadata": {},
   "outputs": [],
   "source": []
  },
  {
   "cell_type": "markdown",
   "id": "d9a63daf",
   "metadata": {},
   "source": [
    "##### Statistics"
   ]
  },
  {
   "cell_type": "code",
   "execution_count": null,
   "id": "a86a05a7",
   "metadata": {},
   "outputs": [],
   "source": []
  }
 ],
 "metadata": {
  "kernelspec": {
   "display_name": "venv (3.12.6)",
   "language": "python",
   "name": "python3"
  },
  "language_info": {
   "codemirror_mode": {
    "name": "ipython",
    "version": 3
   },
   "file_extension": ".py",
   "mimetype": "text/x-python",
   "name": "python",
   "nbconvert_exporter": "python",
   "pygments_lexer": "ipython3",
   "version": "3.12.6"
  }
 },
 "nbformat": 4,
 "nbformat_minor": 5
}
