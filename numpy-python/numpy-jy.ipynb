{
 "cells": [
  {
   "cell_type": "markdown",
   "id": "cd8e19b4",
   "metadata": {},
   "source": [
    "## ABOUT NUMPY"
   ]
  },
  {
   "cell_type": "markdown",
   "id": "5dfa2a5d",
   "metadata": {},
   "source": [
    "- use fixed type (as dtype=float64)\n",
    "- is faster than lists\n",
    "- SIMD (Single Instruction, Multiple Data) vector processing"
   ]
  },
  {
   "cell_type": "markdown",
   "id": "29db2289",
   "metadata": {},
   "source": [
    "### The Basics"
   ]
  },
  {
   "cell_type": "code",
   "execution_count": null,
   "id": "0880545d",
   "metadata": {},
   "outputs": [],
   "source": [
    "import numpy as np\n",
    "a = np.array([1,2,3], dtype='int32') #par default int64\n",
    "print(a)\n",
    "b = np.array([[9.0,8.0,7.0],[6.0,5.0,4.0]])\n",
    "print(b)"
   ]
  },
  {
   "cell_type": "code",
   "execution_count": null,
   "id": "c87683c8",
   "metadata": {},
   "outputs": [],
   "source": [
    "print(\"Get Dimension\")\n",
    "print(a.ndim)\n",
    "print(\"Get Shape\")\n",
    "print(b.shape)\n",
    "print(\"Get Type\")\n",
    "print(a.dtype) \n",
    "print(\"Get Size\")\n",
    "print(a.itemsize) # size one element in array in bytes\n",
    "print(\"Get total size\")\n",
    "print(a.nbytes) # size of the entire array in bytes\n",
    "print(\"Get number of elements\")\n",
    "print(a.size) # the number of the elements"
   ]
  },
  {
   "cell_type": "code",
   "execution_count": null,
   "id": "5c0a4afa",
   "metadata": {},
   "outputs": [],
   "source": [
    "ar = np.array([1,2,3,4])\n",
    "br = np.ones((1, 4))\n",
    "M = np.outer(a, b)\n",
    "d = np.diag(M)\n",
    "t = np.trace(M)"
   ]
  },
  {
   "cell_type": "markdown",
   "id": "8d04a19a",
   "metadata": {},
   "source": [
    "### Accessing/Changing specific elements, rows, columns, etc"
   ]
  },
  {
   "cell_type": "code",
   "execution_count": null,
   "id": "41350dbe",
   "metadata": {},
   "outputs": [],
   "source": [
    "a = np.array([[1,2,3,4,5,6,7],[8,9,10,11,12,13,14]])\n",
    "print(a)\n",
    "# Get a specific element [r, c]\n",
    "a[1, 5]\n",
    "# Get a specific row \n",
    "a[0, :]\n",
    "# Get a specific column\n",
    "a[:, 2]\n",
    "# Getting a little more fancy [startindex:endindex:stepsize]\n",
    "a[0, 1:-1:2]\n",
    "\n",
    "a[1,5] = 20\n",
    "\n",
    "a[:,2] = [1,2]\n",
    "print(a)"
   ]
  },
  {
   "cell_type": "code",
   "execution_count": null,
   "id": "ddc1aaef",
   "metadata": {},
   "outputs": [],
   "source": [
    "b = np.array([[[1,2],[3,4]],[[5,6],[7,8]]]) #3d matrix\n",
    "print(b)\n",
    "\n",
    "b[0,1,1] # a specific element (work outside in)\n",
    "\n",
    "# b[:,1,:] = [[9,9,9],[8,8]] # replace, error\n",
    "b[:,1,:] = [[9,9], [8,8]] # replace \n",
    "print(b)"
   ]
  },
  {
   "cell_type": "markdown",
   "id": "59d87b74",
   "metadata": {},
   "source": [
    "### Initializing Different Types of Arrays"
   ]
  },
  {
   "cell_type": "code",
   "execution_count": null,
   "id": "0f6a1c71",
   "metadata": {},
   "outputs": [],
   "source": [
    "np.zeros((2,3)) # All 0s matrix\n",
    "np.ones((4,2,2), dtype='int32') # All 1s matrix (3d matrix)\n",
    "np.full((2,2), 99) # Any other number\n",
    "np.full_like(a, 4) # Any other number (full_like)\n",
    "np.random.rand(4,2) # Random decimal numbers\n",
    "np.random.randint(-4,8, size=(3,3)) # Random Integer values\n",
    "np.identity(5) # The identity matrix"
   ]
  },
  {
   "cell_type": "code",
   "execution_count": null,
   "id": "1f28c1cc",
   "metadata": {},
   "outputs": [],
   "source": [
    "np.ones((4,2,2), dtype='int32') # All 1s matrix"
   ]
  },
  {
   "cell_type": "code",
   "execution_count": null,
   "id": "12b6f72d",
   "metadata": {},
   "outputs": [],
   "source": [
    "# Repeat an array\n",
    "arr = np.array([[1,2,3]])\n",
    "r1 = np.repeat(arr,3, axis=0)\n",
    "print(r1)\n",
    "\n",
    "# axis=0 - to repeat rows\n",
    "# axis=1 - to repeat collums\n",
    "\n",
    "#slices\n",
    "output = np.ones((5,5))\n",
    "print(output)\n",
    "\n",
    "z = np.zeros((3,3))\n",
    "z[1,1] = 9\n",
    "print(z)\n",
    "\n",
    "output[1:-1,1:-1] = z\n",
    "print(output)"
   ]
  },
  {
   "cell_type": "code",
   "execution_count": null,
   "id": "72f9488c",
   "metadata": {},
   "outputs": [],
   "source": [
    "a = np.array([1,2,3])\n",
    "b = a.copy()\n",
    "b[0] = 100 #doesnt change the value of the matrix a\n",
    "\n",
    "print(a)"
   ]
  },
  {
   "cell_type": "markdown",
   "id": "dac48c19",
   "metadata": {},
   "source": [
    "### Mathematics"
   ]
  },
  {
   "cell_type": "code",
   "execution_count": null,
   "id": "33830c20",
   "metadata": {},
   "outputs": [],
   "source": [
    "a = np.array([1,2,3,4])\n",
    "print(a)\n",
    "\n",
    "a = a + 2\n",
    "print(a)\n",
    "\n",
    "a = a - 2\n",
    "print(a)\n",
    "\n",
    "a = a * 2\n",
    "print(a)\n",
    "\n",
    "a = a / 2\n",
    "print(a)\n",
    "\n",
    "a = a ** 2\n",
    "print(a)\n"
   ]
  },
  {
   "cell_type": "code",
   "execution_count": null,
   "id": "d647f898",
   "metadata": {},
   "outputs": [],
   "source": [
    "b = np.array([1,0,1,0])\n",
    "d = a + b\n",
    "print(d)\n",
    "\n",
    "c = np.array([1, 0, 1])\n",
    "# f = a + c # error"
   ]
  },
  {
   "cell_type": "markdown",
   "id": "b0a682f4",
   "metadata": {},
   "source": [
    "##### Linear Algebra"
   ]
  },
  {
   "cell_type": "code",
   "execution_count": null,
   "id": "5e033e4b",
   "metadata": {},
   "outputs": [],
   "source": [
    "a = np.ones((2,3))\n",
    "print(a)\n",
    "\n",
    "b = np.full((3,2), 2)\n",
    "print(b)\n",
    "\n",
    "d = np.matmul(a,b)  # matrix multiplication\n",
    "print(d)\n",
    "\n",
    "c = np.identity(3)\n",
    "np.linalg.det(c) # the determinant"
   ]
  },
  {
   "cell_type": "code",
   "execution_count": null,
   "id": "fb23cd43",
   "metadata": {},
   "outputs": [],
   "source": [
    "A = np.identity(4)\n",
    "b = np.array([0, 1, 2, 3])\n",
    "np.trace(A) # sum of the diagonal values\n",
    "np.linalg.eig(A) # Eigenvalues / Eigenvectors\n",
    "np.linalg.inv(A)\n",
    "np.linalg.norm(A)\n",
    "np.linalg.matrix_rank(A)\n",
    "np.linalg.solve(A,b) # Solve linear system\n"
   ]
  },
  {
   "cell_type": "markdown",
   "id": "d9a63daf",
   "metadata": {},
   "source": [
    "##### Statistics"
   ]
  },
  {
   "cell_type": "code",
   "execution_count": null,
   "id": "a86a05a7",
   "metadata": {},
   "outputs": [],
   "source": [
    "stats = np.array([[1,2,3],[4,5,6]])\n",
    "\n",
    "np.min(stats, axis=0) # min in every collumn\n",
    "                      # axis 0  ↓\n",
    "                      # axis 1  →\n",
    "np.min(stats, axis=1)\n",
    "np.min(stats)\n",
    "\n",
    "np.max(stats, axis=0) \n",
    "np.max(stats, axis=1)\n",
    "np.max(stats) \n",
    "\n",
    "np.sum(stats, axis=0)\n",
    "np.sum(stats, axis=1)\n",
    "np.sum(stats)"
   ]
  },
  {
   "cell_type": "markdown",
   "id": "6d4fc61b",
   "metadata": {},
   "source": [
    "##### Reorganizing Arrays"
   ]
  },
  {
   "cell_type": "code",
   "execution_count": null,
   "id": "6ea5844b",
   "metadata": {},
   "outputs": [],
   "source": [
    "before = np.array([[1,2,3,4],[5,6,7,8]])\n",
    "print(before)\n",
    "print(before.shape)\n",
    "\n",
    "after1 = before.reshape((1,8)) \n",
    "print(after1)\n",
    "\n",
    "after2 = before.reshape((8,1)) \n",
    "print(after2)\n",
    "\n",
    "after3 = before.reshape((4,2)) \n",
    "print(after3)\n",
    "\n",
    "# after4 = before.reshape((2,2)) # error\n",
    "\n",
    "after5 = before.reshape((2,2,2)) # 3D matrix\n",
    "print(after5)\n",
    "\n",
    "# after6 = before.reshape((2,3)) # error"
   ]
  },
  {
   "cell_type": "code",
   "execution_count": null,
   "id": "bf4d09b5",
   "metadata": {},
   "outputs": [],
   "source": [
    "v1 = np.array([1,2,3,4])\n",
    "v2 = np.array([5,6,7,8])\n",
    "\n",
    "np.vstack([v1,v2,v1,v2]) # Vertically stacking vectors\n",
    "\n",
    "h1 = np.ones((2,4))\n",
    "h2 = np.zeros((2,2))\n",
    "# print(h1)\n",
    "# print(h2)\n",
    "\n",
    "np.hstack((h1,h2)) # Horizontal  stack"
   ]
  },
  {
   "cell_type": "markdown",
   "id": "d057fb68",
   "metadata": {},
   "source": [
    "##### Load Data from File"
   ]
  },
  {
   "cell_type": "code",
   "execution_count": 44,
   "id": "92c448f6",
   "metadata": {},
   "outputs": [
    {
     "name": "stdout",
     "output_type": "stream",
     "text": [
      "[[  1  13  21  11 196  75   4   3  34   6   7   8   0   1   2   3   4   5]\n",
      " [  3  42  12  33 766  75   4  55   6   4   3   4   5   6   7   0  11  12]\n",
      " [  1  22  33  11 999  11   2   1  78   0   1   2   9   8   7   1  76  88]]\n"
     ]
    }
   ],
   "source": [
    "filedata = np.genfromtxt('data.txt', delimiter=',')\n",
    "filedata = filedata.astype('int32')\n",
    "print(filedata)"
   ]
  },
  {
   "cell_type": "markdown",
   "id": "14c4aace",
   "metadata": {},
   "source": [
    "##### Boolean Masking and Advanced Indexing"
   ]
  },
  {
   "cell_type": "code",
   "execution_count": 45,
   "id": "9d482339",
   "metadata": {},
   "outputs": [
    {
     "data": {
      "text/plain": [
       "array([[ True,  True,  True,  True,  True, False,  True,  True,  True,\n",
       "         True,  True,  True,  True,  True,  True,  True,  True,  True],\n",
       "       [ True,  True,  True,  True,  True, False,  True, False,  True,\n",
       "         True,  True,  True,  True,  True,  True,  True,  True,  True],\n",
       "       [ True,  True,  True,  True,  True,  True,  True,  True, False,\n",
       "         True,  True,  True,  True,  True,  True,  True, False, False]])"
      ]
     },
     "execution_count": 45,
     "metadata": {},
     "output_type": "execute_result"
    }
   ],
   "source": [
    "(~((filedata > 50) & (filedata < 100)))"
   ]
  }
 ],
 "metadata": {
  "kernelspec": {
   "display_name": "venv (3.12.6)",
   "language": "python",
   "name": "python3"
  },
  "language_info": {
   "codemirror_mode": {
    "name": "ipython",
    "version": 3
   },
   "file_extension": ".py",
   "mimetype": "text/x-python",
   "name": "python",
   "nbconvert_exporter": "python",
   "pygments_lexer": "ipython3",
   "version": "3.12.6"
  }
 },
 "nbformat": 4,
 "nbformat_minor": 5
}
