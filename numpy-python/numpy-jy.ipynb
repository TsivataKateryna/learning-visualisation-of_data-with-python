{
 "cells": [
  {
   "cell_type": "markdown",
   "id": "29db2289",
   "metadata": {},
   "source": [
    "## The Basics"
   ]
  },
  {
   "cell_type": "code",
   "execution_count": null,
   "id": "0880545d",
   "metadata": {},
   "outputs": [],
   "source": [
    "import numpy as np\n",
    "a = np.array([1,2,3], dtype='int32') #par default int64\n",
    "print(a)\n",
    "b = np.array([[9.0,8.0,7.0],[6.0,5.0,4.0]])\n",
    "print(b)"
   ]
  },
  {
   "cell_type": "code",
   "execution_count": null,
   "id": "c87683c8",
   "metadata": {},
   "outputs": [],
   "source": [
    "print(\"Get Dimension\")\n",
    "print(a.ndim)\n",
    "print(\"Get Shape\")\n",
    "print(b.shape)\n",
    "print(\"Get Type\")\n",
    "print(a.dtype) \n",
    "print(\"Get Size\")\n",
    "print(a.itemsize) # size one element in array in bytes\n",
    "print(\"Get total size\")\n",
    "print(a.nbytes) # size of the entire array in bytes\n",
    "print(\"Get number of elements\")\n",
    "print(a.size) # the number of the elements"
   ]
  },
  {
   "cell_type": "markdown",
   "id": "8d04a19a",
   "metadata": {},
   "source": [
    "### Accessing/Changing specific elements, rows, columns, etc"
   ]
  },
  {
   "cell_type": "markdown",
   "id": "59d87b74",
   "metadata": {},
   "source": [
    "### Initializing Different Types of Arrays"
   ]
  },
  {
   "cell_type": "markdown",
   "id": "dac48c19",
   "metadata": {},
   "source": [
    "### Mathematics"
   ]
  },
  {
   "cell_type": "markdown",
   "id": "b0a682f4",
   "metadata": {},
   "source": [
    "### Linear Algebra"
   ]
  }
 ],
 "metadata": {
  "kernelspec": {
   "display_name": "venv (3.12.6)",
   "language": "python",
   "name": "python3"
  },
  "language_info": {
   "codemirror_mode": {
    "name": "ipython",
    "version": 3
   },
   "file_extension": ".py",
   "mimetype": "text/x-python",
   "name": "python",
   "nbconvert_exporter": "python",
   "pygments_lexer": "ipython3",
   "version": "3.12.6"
  }
 },
 "nbformat": 4,
 "nbformat_minor": 5
}
